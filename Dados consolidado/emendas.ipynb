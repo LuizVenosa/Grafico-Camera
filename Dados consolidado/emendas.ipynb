{
 "cells": [
  {
   "cell_type": "code",
   "execution_count": 6,
   "metadata": {
    "vscode": {
     "languageId": "python"
    }
   },
   "outputs": [],
   "source": [
    "import pandas as pd\n",
    "n_publicos = pd.read_excel(\"Base_MUNIC_2021_20240425.xlsx\", sheet_name=\"Recursos humanos\")\n",
    "\n"
   ]
  },
  {
   "cell_type": "code",
   "execution_count": 66,
   "metadata": {
    "vscode": {
     "languageId": "python"
    }
   },
   "outputs": [
    {
     "data": {
      "text/html": [
       "<div>\n",
       "<style scoped>\n",
       "    .dataframe tbody tr th:only-of-type {\n",
       "        vertical-align: middle;\n",
       "    }\n",
       "\n",
       "    .dataframe tbody tr th {\n",
       "        vertical-align: top;\n",
       "    }\n",
       "\n",
       "    .dataframe thead th {\n",
       "        text-align: right;\n",
       "    }\n",
       "</style>\n",
       "<table border=\"1\" class=\"dataframe\">\n",
       "  <thead>\n",
       "    <tr style=\"text-align: right;\">\n",
       "      <th></th>\n",
       "      <th>CodMun</th>\n",
       "      <th>UF</th>\n",
       "      <th>Cod UF</th>\n",
       "      <th>Mun</th>\n",
       "      <th>Pop</th>\n",
       "      <th>Faixa_pop</th>\n",
       "      <th>Regiao</th>\n",
       "      <th>Mreh0111</th>\n",
       "      <th>Mreh0112</th>\n",
       "      <th>Mreh0113</th>\n",
       "      <th>Mreh0114</th>\n",
       "      <th>Mreh0115</th>\n",
       "      <th>Mreh0116</th>\n",
       "      <th>Mreh02</th>\n",
       "      <th>Mreh0311</th>\n",
       "      <th>Mreh0312</th>\n",
       "      <th>Mreh0313</th>\n",
       "      <th>Mreh0314</th>\n",
       "      <th>Mreh0315</th>\n",
       "      <th>Mreh0316</th>\n",
       "    </tr>\n",
       "  </thead>\n",
       "  <tbody>\n",
       "    <tr>\n",
       "      <th>0</th>\n",
       "      <td>1100015</td>\n",
       "      <td>RO</td>\n",
       "      <td>11</td>\n",
       "      <td>Alta Floresta DOeste</td>\n",
       "      <td>22516</td>\n",
       "      <td>4 - 20001 até 50000</td>\n",
       "      <td>1 - Norte</td>\n",
       "      <td>1175</td>\n",
       "      <td>92</td>\n",
       "      <td>85</td>\n",
       "      <td>0</td>\n",
       "      <td>0</td>\n",
       "      <td>1352</td>\n",
       "      <td>Sim</td>\n",
       "      <td>0</td>\n",
       "      <td>14</td>\n",
       "      <td>2</td>\n",
       "      <td>0</td>\n",
       "      <td>0</td>\n",
       "      <td>16</td>\n",
       "    </tr>\n",
       "    <tr>\n",
       "      <th>1</th>\n",
       "      <td>1100023</td>\n",
       "      <td>RO</td>\n",
       "      <td>11</td>\n",
       "      <td>Ariquemes</td>\n",
       "      <td>111148</td>\n",
       "      <td>6 - 100001 até 500000</td>\n",
       "      <td>1 - Norte</td>\n",
       "      <td>2185</td>\n",
       "      <td>163</td>\n",
       "      <td>235</td>\n",
       "      <td>77</td>\n",
       "      <td>114</td>\n",
       "      <td>2774</td>\n",
       "      <td>Sim</td>\n",
       "      <td>6</td>\n",
       "      <td>0</td>\n",
       "      <td>5</td>\n",
       "      <td>0</td>\n",
       "      <td>0</td>\n",
       "      <td>11</td>\n",
       "    </tr>\n",
       "    <tr>\n",
       "      <th>2</th>\n",
       "      <td>1100031</td>\n",
       "      <td>RO</td>\n",
       "      <td>11</td>\n",
       "      <td>Cabixi</td>\n",
       "      <td>5067</td>\n",
       "      <td>2 - 5001 até 10000</td>\n",
       "      <td>1 - Norte</td>\n",
       "      <td>250</td>\n",
       "      <td>22</td>\n",
       "      <td>64</td>\n",
       "      <td>0</td>\n",
       "      <td>0</td>\n",
       "      <td>336</td>\n",
       "      <td>Não</td>\n",
       "      <td>-</td>\n",
       "      <td>-</td>\n",
       "      <td>-</td>\n",
       "      <td>-</td>\n",
       "      <td>-</td>\n",
       "      <td>-</td>\n",
       "    </tr>\n",
       "    <tr>\n",
       "      <th>3</th>\n",
       "      <td>1100049</td>\n",
       "      <td>RO</td>\n",
       "      <td>11</td>\n",
       "      <td>Cacoal</td>\n",
       "      <td>86416</td>\n",
       "      <td>5 - 50001 até 100000</td>\n",
       "      <td>1 - Norte</td>\n",
       "      <td>1755</td>\n",
       "      <td>0</td>\n",
       "      <td>231</td>\n",
       "      <td>0</td>\n",
       "      <td>50</td>\n",
       "      <td>2036</td>\n",
       "      <td>Sim</td>\n",
       "      <td>93</td>\n",
       "      <td>0</td>\n",
       "      <td>50</td>\n",
       "      <td>0</td>\n",
       "      <td>2</td>\n",
       "      <td>145</td>\n",
       "    </tr>\n",
       "    <tr>\n",
       "      <th>4</th>\n",
       "      <td>1100056</td>\n",
       "      <td>RO</td>\n",
       "      <td>11</td>\n",
       "      <td>Cerejeiras</td>\n",
       "      <td>16088</td>\n",
       "      <td>3 - 10001 até 20000</td>\n",
       "      <td>1 - Norte</td>\n",
       "      <td>513</td>\n",
       "      <td>43</td>\n",
       "      <td>60</td>\n",
       "      <td>0</td>\n",
       "      <td>19</td>\n",
       "      <td>635</td>\n",
       "      <td>Não</td>\n",
       "      <td>-</td>\n",
       "      <td>-</td>\n",
       "      <td>-</td>\n",
       "      <td>-</td>\n",
       "      <td>-</td>\n",
       "      <td>-</td>\n",
       "    </tr>\n",
       "    <tr>\n",
       "      <th>...</th>\n",
       "      <td>...</td>\n",
       "      <td>...</td>\n",
       "      <td>...</td>\n",
       "      <td>...</td>\n",
       "      <td>...</td>\n",
       "      <td>...</td>\n",
       "      <td>...</td>\n",
       "      <td>...</td>\n",
       "      <td>...</td>\n",
       "      <td>...</td>\n",
       "      <td>...</td>\n",
       "      <td>...</td>\n",
       "      <td>...</td>\n",
       "      <td>...</td>\n",
       "      <td>...</td>\n",
       "      <td>...</td>\n",
       "      <td>...</td>\n",
       "      <td>...</td>\n",
       "      <td>...</td>\n",
       "      <td>...</td>\n",
       "    </tr>\n",
       "    <tr>\n",
       "      <th>5565</th>\n",
       "      <td>5222005</td>\n",
       "      <td>GO</td>\n",
       "      <td>52</td>\n",
       "      <td>Vianópolis</td>\n",
       "      <td>14088</td>\n",
       "      <td>3 - 10001 até 20000</td>\n",
       "      <td>5 - Centro-Oeste</td>\n",
       "      <td>370</td>\n",
       "      <td>0</td>\n",
       "      <td>62</td>\n",
       "      <td>15</td>\n",
       "      <td>45</td>\n",
       "      <td>492</td>\n",
       "      <td>Sim</td>\n",
       "      <td>2</td>\n",
       "      <td>0</td>\n",
       "      <td>0</td>\n",
       "      <td>0</td>\n",
       "      <td>0</td>\n",
       "      <td>2</td>\n",
       "    </tr>\n",
       "    <tr>\n",
       "      <th>5566</th>\n",
       "      <td>5222054</td>\n",
       "      <td>GO</td>\n",
       "      <td>52</td>\n",
       "      <td>Vicentinópolis</td>\n",
       "      <td>9002</td>\n",
       "      <td>2 - 5001 até 10000</td>\n",
       "      <td>5 - Centro-Oeste</td>\n",
       "      <td>317</td>\n",
       "      <td>0</td>\n",
       "      <td>89</td>\n",
       "      <td>8</td>\n",
       "      <td>60</td>\n",
       "      <td>474</td>\n",
       "      <td>Sim</td>\n",
       "      <td>1</td>\n",
       "      <td>0</td>\n",
       "      <td>1</td>\n",
       "      <td>0</td>\n",
       "      <td>0</td>\n",
       "      <td>2</td>\n",
       "    </tr>\n",
       "    <tr>\n",
       "      <th>5567</th>\n",
       "      <td>5222203</td>\n",
       "      <td>GO</td>\n",
       "      <td>52</td>\n",
       "      <td>Vila Boa</td>\n",
       "      <td>6451</td>\n",
       "      <td>2 - 5001 até 10000</td>\n",
       "      <td>5 - Centro-Oeste</td>\n",
       "      <td>237</td>\n",
       "      <td>0</td>\n",
       "      <td>67</td>\n",
       "      <td>0</td>\n",
       "      <td>5</td>\n",
       "      <td>309</td>\n",
       "      <td>Não</td>\n",
       "      <td>-</td>\n",
       "      <td>-</td>\n",
       "      <td>-</td>\n",
       "      <td>-</td>\n",
       "      <td>-</td>\n",
       "      <td>-</td>\n",
       "    </tr>\n",
       "    <tr>\n",
       "      <th>5568</th>\n",
       "      <td>5222302</td>\n",
       "      <td>GO</td>\n",
       "      <td>52</td>\n",
       "      <td>Vila Propício</td>\n",
       "      <td>5941</td>\n",
       "      <td>2 - 5001 até 10000</td>\n",
       "      <td>5 - Centro-Oeste</td>\n",
       "      <td>138</td>\n",
       "      <td>0</td>\n",
       "      <td>139</td>\n",
       "      <td>0</td>\n",
       "      <td>15</td>\n",
       "      <td>292</td>\n",
       "      <td>Não</td>\n",
       "      <td>-</td>\n",
       "      <td>-</td>\n",
       "      <td>-</td>\n",
       "      <td>-</td>\n",
       "      <td>-</td>\n",
       "      <td>-</td>\n",
       "    </tr>\n",
       "    <tr>\n",
       "      <th>5569</th>\n",
       "      <td>5300108</td>\n",
       "      <td>DF</td>\n",
       "      <td>53</td>\n",
       "      <td>Brasília</td>\n",
       "      <td>3094325</td>\n",
       "      <td>7 - Maior que 500000</td>\n",
       "      <td>5 - Centro-Oeste</td>\n",
       "      <td>97636</td>\n",
       "      <td>382</td>\n",
       "      <td>6437</td>\n",
       "      <td>1059</td>\n",
       "      <td>13690</td>\n",
       "      <td>119204</td>\n",
       "      <td>Sim</td>\n",
       "      <td>4084</td>\n",
       "      <td>9542</td>\n",
       "      <td>1342</td>\n",
       "      <td>196</td>\n",
       "      <td>151</td>\n",
       "      <td>15315</td>\n",
       "    </tr>\n",
       "  </tbody>\n",
       "</table>\n",
       "<p>5570 rows × 20 columns</p>\n",
       "</div>"
      ],
      "text/plain": [
       "       CodMun  UF  Cod UF  ... Mreh0314  Mreh0315 Mreh0316\n",
       "0     1100015  RO      11  ...        0         0       16\n",
       "1     1100023  RO      11  ...        0         0       11\n",
       "2     1100031  RO      11  ...        -         -        -\n",
       "3     1100049  RO      11  ...        0         2      145\n",
       "4     1100056  RO      11  ...        -         -        -\n",
       "...       ...  ..     ...  ...      ...       ...      ...\n",
       "5565  5222005  GO      52  ...        0         0        2\n",
       "5566  5222054  GO      52  ...        0         0        2\n",
       "5567  5222203  GO      52  ...        -         -        -\n",
       "5568  5222302  GO      52  ...        -         -        -\n",
       "5569  5300108  DF      53  ...      196       151    15315\n",
       "\n",
       "[5570 rows x 20 columns]"
      ]
     },
     "execution_count": null,
     "metadata": {},
     "output_type": "execute_result"
    }
   ],
   "source": [
    "n_publicos"
   ]
  },
  {
   "cell_type": "code",
   "execution_count": 67,
   "metadata": {
    "vscode": {
     "languageId": "python"
    }
   },
   "outputs": [],
   "source": [
    "func_publicos = n_publicos[[\"CodMun\",\"UF\", \"Mun\",\"Pop\", \"Mreh0116\"]]"
   ]
  },
  {
   "cell_type": "code",
   "execution_count": 68,
   "metadata": {
    "vscode": {
     "languageId": "python"
    }
   },
   "outputs": [
    {
     "data": {
      "text/html": [
       "<div>\n",
       "<style scoped>\n",
       "    .dataframe tbody tr th:only-of-type {\n",
       "        vertical-align: middle;\n",
       "    }\n",
       "\n",
       "    .dataframe tbody tr th {\n",
       "        vertical-align: top;\n",
       "    }\n",
       "\n",
       "    .dataframe thead th {\n",
       "        text-align: right;\n",
       "    }\n",
       "</style>\n",
       "<table border=\"1\" class=\"dataframe\">\n",
       "  <thead>\n",
       "    <tr style=\"text-align: right;\">\n",
       "      <th></th>\n",
       "      <th>CodMun</th>\n",
       "      <th>UF</th>\n",
       "      <th>Mun</th>\n",
       "      <th>Pop</th>\n",
       "      <th>Mreh0116</th>\n",
       "    </tr>\n",
       "  </thead>\n",
       "  <tbody>\n",
       "    <tr>\n",
       "      <th>0</th>\n",
       "      <td>1100015</td>\n",
       "      <td>RO</td>\n",
       "      <td>Alta Floresta DOeste</td>\n",
       "      <td>22516</td>\n",
       "      <td>1352</td>\n",
       "    </tr>\n",
       "    <tr>\n",
       "      <th>1</th>\n",
       "      <td>1100023</td>\n",
       "      <td>RO</td>\n",
       "      <td>Ariquemes</td>\n",
       "      <td>111148</td>\n",
       "      <td>2774</td>\n",
       "    </tr>\n",
       "    <tr>\n",
       "      <th>2</th>\n",
       "      <td>1100031</td>\n",
       "      <td>RO</td>\n",
       "      <td>Cabixi</td>\n",
       "      <td>5067</td>\n",
       "      <td>336</td>\n",
       "    </tr>\n",
       "    <tr>\n",
       "      <th>3</th>\n",
       "      <td>1100049</td>\n",
       "      <td>RO</td>\n",
       "      <td>Cacoal</td>\n",
       "      <td>86416</td>\n",
       "      <td>2036</td>\n",
       "    </tr>\n",
       "    <tr>\n",
       "      <th>4</th>\n",
       "      <td>1100056</td>\n",
       "      <td>RO</td>\n",
       "      <td>Cerejeiras</td>\n",
       "      <td>16088</td>\n",
       "      <td>635</td>\n",
       "    </tr>\n",
       "    <tr>\n",
       "      <th>...</th>\n",
       "      <td>...</td>\n",
       "      <td>...</td>\n",
       "      <td>...</td>\n",
       "      <td>...</td>\n",
       "      <td>...</td>\n",
       "    </tr>\n",
       "    <tr>\n",
       "      <th>5565</th>\n",
       "      <td>5222005</td>\n",
       "      <td>GO</td>\n",
       "      <td>Vianópolis</td>\n",
       "      <td>14088</td>\n",
       "      <td>492</td>\n",
       "    </tr>\n",
       "    <tr>\n",
       "      <th>5566</th>\n",
       "      <td>5222054</td>\n",
       "      <td>GO</td>\n",
       "      <td>Vicentinópolis</td>\n",
       "      <td>9002</td>\n",
       "      <td>474</td>\n",
       "    </tr>\n",
       "    <tr>\n",
       "      <th>5567</th>\n",
       "      <td>5222203</td>\n",
       "      <td>GO</td>\n",
       "      <td>Vila Boa</td>\n",
       "      <td>6451</td>\n",
       "      <td>309</td>\n",
       "    </tr>\n",
       "    <tr>\n",
       "      <th>5568</th>\n",
       "      <td>5222302</td>\n",
       "      <td>GO</td>\n",
       "      <td>Vila Propício</td>\n",
       "      <td>5941</td>\n",
       "      <td>292</td>\n",
       "    </tr>\n",
       "    <tr>\n",
       "      <th>5569</th>\n",
       "      <td>5300108</td>\n",
       "      <td>DF</td>\n",
       "      <td>Brasília</td>\n",
       "      <td>3094325</td>\n",
       "      <td>119204</td>\n",
       "    </tr>\n",
       "  </tbody>\n",
       "</table>\n",
       "<p>5570 rows × 5 columns</p>\n",
       "</div>"
      ],
      "text/plain": [
       "       CodMun  UF                   Mun      Pop Mreh0116\n",
       "0     1100015  RO  Alta Floresta DOeste    22516     1352\n",
       "1     1100023  RO             Ariquemes   111148     2774\n",
       "2     1100031  RO                Cabixi     5067      336\n",
       "3     1100049  RO                Cacoal    86416     2036\n",
       "4     1100056  RO            Cerejeiras    16088      635\n",
       "...       ...  ..                   ...      ...      ...\n",
       "5565  5222005  GO            Vianópolis    14088      492\n",
       "5566  5222054  GO        Vicentinópolis     9002      474\n",
       "5567  5222203  GO              Vila Boa     6451      309\n",
       "5568  5222302  GO         Vila Propício     5941      292\n",
       "5569  5300108  DF              Brasília  3094325   119204\n",
       "\n",
       "[5570 rows x 5 columns]"
      ]
     },
     "execution_count": null,
     "metadata": {},
     "output_type": "execute_result"
    }
   ],
   "source": [
    "func_publicos"
   ]
  },
  {
   "cell_type": "code",
   "execution_count": 73,
   "metadata": {
    "vscode": {
     "languageId": "python"
    }
   },
   "outputs": [],
   "source": [
    "pessoal_ocupado = pd.read_excel(r\"C:\\Users\\Luiz Venosa\\Documents\\Questions\\Grafico Camera\\Dados consolidado\\dados pessoal ocupado\\Unidades Locais\\Tabela 13.xlsx\", header=3, skipfooter=5 )"
   ]
  },
  {
   "cell_type": "code",
   "execution_count": 74,
   "metadata": {
    "vscode": {
     "languageId": "python"
    }
   },
   "outputs": [],
   "source": [
    "pessoal_ocupado = pessoal_ocupado.iloc[29:, :]\n",
    "pessoal_ocupado = pessoal_ocupado.rename(columns={\"Unnamed:4\": \"Assalariado\"})"
   ]
  },
  {
   "cell_type": "code",
   "execution_count": 62,
   "metadata": {
    "vscode": {
     "languageId": "python"
    }
   },
   "outputs": [
    {
     "data": {
      "text/html": [
       "<div>\n",
       "<style scoped>\n",
       "    .dataframe tbody tr th:only-of-type {\n",
       "        vertical-align: middle;\n",
       "    }\n",
       "\n",
       "    .dataframe tbody tr th {\n",
       "        vertical-align: top;\n",
       "    }\n",
       "\n",
       "    .dataframe thead th {\n",
       "        text-align: right;\n",
       "    }\n",
       "</style>\n",
       "<table border=\"1\" class=\"dataframe\">\n",
       "  <thead>\n",
       "    <tr style=\"text-align: right;\">\n",
       "      <th></th>\n",
       "      <th>0</th>\n",
       "      <th>1</th>\n",
       "    </tr>\n",
       "  </thead>\n",
       "  <tbody>\n",
       "    <tr>\n",
       "      <th>29</th>\n",
       "      <td>Alta Floresta D'Oeste</td>\n",
       "      <td>RO</td>\n",
       "    </tr>\n",
       "    <tr>\n",
       "      <th>30</th>\n",
       "      <td>Ariquemes</td>\n",
       "      <td>RO</td>\n",
       "    </tr>\n",
       "    <tr>\n",
       "      <th>31</th>\n",
       "      <td>Cabixi</td>\n",
       "      <td>RO</td>\n",
       "    </tr>\n",
       "    <tr>\n",
       "      <th>32</th>\n",
       "      <td>Cacoal</td>\n",
       "      <td>RO</td>\n",
       "    </tr>\n",
       "    <tr>\n",
       "      <th>33</th>\n",
       "      <td>Cerejeiras</td>\n",
       "      <td>RO</td>\n",
       "    </tr>\n",
       "    <tr>\n",
       "      <th>...</th>\n",
       "      <td>...</td>\n",
       "      <td>...</td>\n",
       "    </tr>\n",
       "    <tr>\n",
       "      <th>5594</th>\n",
       "      <td>Vianópolis</td>\n",
       "      <td>GO</td>\n",
       "    </tr>\n",
       "    <tr>\n",
       "      <th>5595</th>\n",
       "      <td>Vicentinópolis</td>\n",
       "      <td>GO</td>\n",
       "    </tr>\n",
       "    <tr>\n",
       "      <th>5596</th>\n",
       "      <td>Vila Boa</td>\n",
       "      <td>GO</td>\n",
       "    </tr>\n",
       "    <tr>\n",
       "      <th>5597</th>\n",
       "      <td>Vila Propício</td>\n",
       "      <td>GO</td>\n",
       "    </tr>\n",
       "    <tr>\n",
       "      <th>5598</th>\n",
       "      <td>Brasília</td>\n",
       "      <td>DF</td>\n",
       "    </tr>\n",
       "  </tbody>\n",
       "</table>\n",
       "<p>5570 rows × 2 columns</p>\n",
       "</div>"
      ],
      "text/plain": [
       "                           0    1\n",
       "29    Alta Floresta D'Oeste    RO\n",
       "30                Ariquemes    RO\n",
       "31                   Cabixi    RO\n",
       "32                   Cacoal    RO\n",
       "33               Cerejeiras    RO\n",
       "...                      ...  ...\n",
       "5594             Vianópolis    GO\n",
       "5595         Vicentinópolis    GO\n",
       "5596               Vila Boa    GO\n",
       "5597          Vila Propício    GO\n",
       "5598               Brasília    DF\n",
       "\n",
       "[5570 rows x 2 columns]"
      ]
     },
     "execution_count": null,
     "metadata": {},
     "output_type": "execute_result"
    }
   ],
   "source": [
    "pessoal_ocupado[\"Municípios\"].str.split(\"-\", expand=True)[[0, 1]]"
   ]
  },
  {
   "cell_type": "code",
   "execution_count": 75,
   "metadata": {
    "vscode": {
     "languageId": "python"
    }
   },
   "outputs": [],
   "source": [
    "pessoal_ocupado[[\"Municípios\", \"uf\"]] = pessoal_ocupado[\"Municípios\"].str.split(\"-\", expand=True)[[0, 1]]"
   ]
  },
  {
   "cell_type": "code",
   "execution_count": 76,
   "metadata": {
    "vscode": {
     "languageId": "python"
    }
   },
   "outputs": [
    {
     "data": {
      "text/html": [
       "<div>\n",
       "<style scoped>\n",
       "    .dataframe tbody tr th:only-of-type {\n",
       "        vertical-align: middle;\n",
       "    }\n",
       "\n",
       "    .dataframe tbody tr th {\n",
       "        vertical-align: top;\n",
       "    }\n",
       "\n",
       "    .dataframe thead th {\n",
       "        text-align: right;\n",
       "    }\n",
       "</style>\n",
       "<table border=\"1\" class=\"dataframe\">\n",
       "  <thead>\n",
       "    <tr style=\"text-align: right;\">\n",
       "      <th></th>\n",
       "      <th>index</th>\n",
       "      <th>Unidades da Federação</th>\n",
       "      <th>Municípios</th>\n",
       "      <th>Número de unidades\\nlocais</th>\n",
       "      <th>Pessoal ocupado</th>\n",
       "      <th>Unnamed: 4</th>\n",
       "      <th>Pessoal assalariado médio</th>\n",
       "      <th>Salários\\ne outras\\nremunerações\\n(1 000 R$)</th>\n",
       "      <th>Salário médio\\n mensal \\n(salários mínimos)  (1) (2)</th>\n",
       "      <th>Salário médio\\n mensal \\n(R$) (2)</th>\n",
       "      <th>Número de empresas atuantes</th>\n",
       "      <th>uf</th>\n",
       "    </tr>\n",
       "  </thead>\n",
       "  <tbody>\n",
       "    <tr>\n",
       "      <th>0</th>\n",
       "      <td>29</td>\n",
       "      <td>Rondônia</td>\n",
       "      <td>Alta Floresta D'Oeste</td>\n",
       "      <td>866.0</td>\n",
       "      <td>3706</td>\n",
       "      <td>2707</td>\n",
       "      <td>2664.23</td>\n",
       "      <td>8.912034e+04</td>\n",
       "      <td>2.123045</td>\n",
       "      <td>2573.130294</td>\n",
       "      <td>848.0</td>\n",
       "      <td>RO</td>\n",
       "    </tr>\n",
       "    <tr>\n",
       "      <th>1</th>\n",
       "      <td>30</td>\n",
       "      <td>Rondônia</td>\n",
       "      <td>Ariquemes</td>\n",
       "      <td>4730.0</td>\n",
       "      <td>24810</td>\n",
       "      <td>19196</td>\n",
       "      <td>18794.23</td>\n",
       "      <td>5.943546e+05</td>\n",
       "      <td>2.007128</td>\n",
       "      <td>2432.639248</td>\n",
       "      <td>4533.0</td>\n",
       "      <td>RO</td>\n",
       "    </tr>\n",
       "    <tr>\n",
       "      <th>2</th>\n",
       "      <td>31</td>\n",
       "      <td>Rondônia</td>\n",
       "      <td>Cabixi</td>\n",
       "      <td>201.0</td>\n",
       "      <td>805</td>\n",
       "      <td>625</td>\n",
       "      <td>595.58</td>\n",
       "      <td>1.790562e+04</td>\n",
       "      <td>1.908109</td>\n",
       "      <td>2312.628026</td>\n",
       "      <td>199.0</td>\n",
       "      <td>RO</td>\n",
       "    </tr>\n",
       "    <tr>\n",
       "      <th>3</th>\n",
       "      <td>32</td>\n",
       "      <td>Rondônia</td>\n",
       "      <td>Cacoal</td>\n",
       "      <td>4258.0</td>\n",
       "      <td>23243</td>\n",
       "      <td>18227</td>\n",
       "      <td>18120.38</td>\n",
       "      <td>5.449247e+05</td>\n",
       "      <td>1.908637</td>\n",
       "      <td>2313.267496</td>\n",
       "      <td>4045.0</td>\n",
       "      <td>RO</td>\n",
       "    </tr>\n",
       "    <tr>\n",
       "      <th>4</th>\n",
       "      <td>33</td>\n",
       "      <td>Rondônia</td>\n",
       "      <td>Cerejeiras</td>\n",
       "      <td>803.0</td>\n",
       "      <td>3556</td>\n",
       "      <td>2701</td>\n",
       "      <td>2647.39</td>\n",
       "      <td>8.497205e+04</td>\n",
       "      <td>2.037099</td>\n",
       "      <td>2468.964237</td>\n",
       "      <td>773.0</td>\n",
       "      <td>RO</td>\n",
       "    </tr>\n",
       "    <tr>\n",
       "      <th>...</th>\n",
       "      <td>...</td>\n",
       "      <td>...</td>\n",
       "      <td>...</td>\n",
       "      <td>...</td>\n",
       "      <td>...</td>\n",
       "      <td>...</td>\n",
       "      <td>...</td>\n",
       "      <td>...</td>\n",
       "      <td>...</td>\n",
       "      <td>...</td>\n",
       "      <td>...</td>\n",
       "      <td>...</td>\n",
       "    </tr>\n",
       "    <tr>\n",
       "      <th>5565</th>\n",
       "      <td>5594</td>\n",
       "      <td>Goiás</td>\n",
       "      <td>Vianópolis</td>\n",
       "      <td>774.0</td>\n",
       "      <td>3442</td>\n",
       "      <td>2457</td>\n",
       "      <td>2441.01</td>\n",
       "      <td>8.411145e+04</td>\n",
       "      <td>2.186954</td>\n",
       "      <td>2650.587824</td>\n",
       "      <td>762.0</td>\n",
       "      <td>GO</td>\n",
       "    </tr>\n",
       "    <tr>\n",
       "      <th>5566</th>\n",
       "      <td>5595</td>\n",
       "      <td>Goiás</td>\n",
       "      <td>Vicentinópolis</td>\n",
       "      <td>342.0</td>\n",
       "      <td>2500</td>\n",
       "      <td>2129</td>\n",
       "      <td>2402.59</td>\n",
       "      <td>7.924238e+04</td>\n",
       "      <td>2.093302</td>\n",
       "      <td>2537.081938</td>\n",
       "      <td>339.0</td>\n",
       "      <td>GO</td>\n",
       "    </tr>\n",
       "    <tr>\n",
       "      <th>5567</th>\n",
       "      <td>5596</td>\n",
       "      <td>Goiás</td>\n",
       "      <td>Vila Boa</td>\n",
       "      <td>170.0</td>\n",
       "      <td>1120</td>\n",
       "      <td>927</td>\n",
       "      <td>1193.93</td>\n",
       "      <td>3.835152e+04</td>\n",
       "      <td>2.038721</td>\n",
       "      <td>2470.929812</td>\n",
       "      <td>167.0</td>\n",
       "      <td>GO</td>\n",
       "    </tr>\n",
       "    <tr>\n",
       "      <th>5568</th>\n",
       "      <td>5597</td>\n",
       "      <td>Goiás</td>\n",
       "      <td>Vila Propício</td>\n",
       "      <td>186.0</td>\n",
       "      <td>1533</td>\n",
       "      <td>1358</td>\n",
       "      <td>1282.25</td>\n",
       "      <td>3.979811e+04</td>\n",
       "      <td>1.969898</td>\n",
       "      <td>2387.516775</td>\n",
       "      <td>176.0</td>\n",
       "      <td>GO</td>\n",
       "    </tr>\n",
       "    <tr>\n",
       "      <th>5569</th>\n",
       "      <td>5598</td>\n",
       "      <td>Distrito Federal</td>\n",
       "      <td>Brasília</td>\n",
       "      <td>190432.0</td>\n",
       "      <td>1427471</td>\n",
       "      <td>1195111</td>\n",
       "      <td>1202029.55</td>\n",
       "      <td>9.222876e+07</td>\n",
       "      <td>4.869734</td>\n",
       "      <td>5902.11775</td>\n",
       "      <td>178067.0</td>\n",
       "      <td>DF</td>\n",
       "    </tr>\n",
       "  </tbody>\n",
       "</table>\n",
       "<p>5570 rows × 12 columns</p>\n",
       "</div>"
      ],
      "text/plain": [
       "      index Unidades da Federação  ... Número de empresas atuantes   uf\n",
       "0        29              Rondônia  ...                       848.0   RO\n",
       "1        30              Rondônia  ...                      4533.0   RO\n",
       "2        31              Rondônia  ...                       199.0   RO\n",
       "3        32              Rondônia  ...                      4045.0   RO\n",
       "4        33              Rondônia  ...                       773.0   RO\n",
       "...     ...                   ...  ...                         ...  ...\n",
       "5565   5594                 Goiás  ...                       762.0   GO\n",
       "5566   5595                 Goiás  ...                       339.0   GO\n",
       "5567   5596                 Goiás  ...                       167.0   GO\n",
       "5568   5597                 Goiás  ...                       176.0   GO\n",
       "5569   5598      Distrito Federal  ...                    178067.0   DF\n",
       "\n",
       "[5570 rows x 12 columns]"
      ]
     },
     "execution_count": null,
     "metadata": {},
     "output_type": "execute_result"
    }
   ],
   "source": [
    "pessoal_ocupado.reset_index()"
   ]
  },
  {
   "cell_type": "code",
   "execution_count": 85,
   "metadata": {
    "vscode": {
     "languageId": "python"
    }
   },
   "outputs": [],
   "source": [
    "pessoal_ocupado = pessoal_ocupado.reset_index(drop=True)"
   ]
  },
  {
   "cell_type": "code",
   "execution_count": 86,
   "metadata": {
    "vscode": {
     "languageId": "python"
    }
   },
   "outputs": [],
   "source": [
    "df_merged = pd.merge(pessoal_ocupado, func_publicos, left_index=True, right_index=True)"
   ]
  },
  {
   "cell_type": "code",
   "execution_count": 87,
   "metadata": {
    "vscode": {
     "languageId": "python"
    }
   },
   "outputs": [
    {
     "data": {
      "text/html": [
       "<div>\n",
       "<style scoped>\n",
       "    .dataframe tbody tr th:only-of-type {\n",
       "        vertical-align: middle;\n",
       "    }\n",
       "\n",
       "    .dataframe tbody tr th {\n",
       "        vertical-align: top;\n",
       "    }\n",
       "\n",
       "    .dataframe thead th {\n",
       "        text-align: right;\n",
       "    }\n",
       "</style>\n",
       "<table border=\"1\" class=\"dataframe\">\n",
       "  <thead>\n",
       "    <tr style=\"text-align: right;\">\n",
       "      <th></th>\n",
       "      <th>Unidades da Federação</th>\n",
       "      <th>Municípios</th>\n",
       "      <th>Número de unidades\\nlocais</th>\n",
       "      <th>Pessoal ocupado</th>\n",
       "      <th>Unnamed: 4</th>\n",
       "      <th>Pessoal assalariado médio</th>\n",
       "      <th>Salários\\ne outras\\nremunerações\\n(1 000 R$)</th>\n",
       "      <th>Salário médio\\n mensal \\n(salários mínimos)  (1) (2)</th>\n",
       "      <th>Salário médio\\n mensal \\n(R$) (2)</th>\n",
       "      <th>Número de empresas atuantes</th>\n",
       "      <th>uf</th>\n",
       "      <th>CodMun</th>\n",
       "      <th>UF</th>\n",
       "      <th>Mun</th>\n",
       "      <th>Pop</th>\n",
       "      <th>Mreh0116</th>\n",
       "    </tr>\n",
       "  </thead>\n",
       "  <tbody>\n",
       "    <tr>\n",
       "      <th>0</th>\n",
       "      <td>Rondônia</td>\n",
       "      <td>Alta Floresta D'Oeste</td>\n",
       "      <td>866.0</td>\n",
       "      <td>3706</td>\n",
       "      <td>2707</td>\n",
       "      <td>2664.23</td>\n",
       "      <td>8.912034e+04</td>\n",
       "      <td>2.123045</td>\n",
       "      <td>2573.130294</td>\n",
       "      <td>848.0</td>\n",
       "      <td>RO</td>\n",
       "      <td>1100015</td>\n",
       "      <td>RO</td>\n",
       "      <td>Alta Floresta DOeste</td>\n",
       "      <td>22516</td>\n",
       "      <td>1352</td>\n",
       "    </tr>\n",
       "    <tr>\n",
       "      <th>1</th>\n",
       "      <td>Rondônia</td>\n",
       "      <td>Ariquemes</td>\n",
       "      <td>4730.0</td>\n",
       "      <td>24810</td>\n",
       "      <td>19196</td>\n",
       "      <td>18794.23</td>\n",
       "      <td>5.943546e+05</td>\n",
       "      <td>2.007128</td>\n",
       "      <td>2432.639248</td>\n",
       "      <td>4533.0</td>\n",
       "      <td>RO</td>\n",
       "      <td>1100023</td>\n",
       "      <td>RO</td>\n",
       "      <td>Ariquemes</td>\n",
       "      <td>111148</td>\n",
       "      <td>2774</td>\n",
       "    </tr>\n",
       "    <tr>\n",
       "      <th>2</th>\n",
       "      <td>Rondônia</td>\n",
       "      <td>Cabixi</td>\n",
       "      <td>201.0</td>\n",
       "      <td>805</td>\n",
       "      <td>625</td>\n",
       "      <td>595.58</td>\n",
       "      <td>1.790562e+04</td>\n",
       "      <td>1.908109</td>\n",
       "      <td>2312.628026</td>\n",
       "      <td>199.0</td>\n",
       "      <td>RO</td>\n",
       "      <td>1100031</td>\n",
       "      <td>RO</td>\n",
       "      <td>Cabixi</td>\n",
       "      <td>5067</td>\n",
       "      <td>336</td>\n",
       "    </tr>\n",
       "    <tr>\n",
       "      <th>3</th>\n",
       "      <td>Rondônia</td>\n",
       "      <td>Cacoal</td>\n",
       "      <td>4258.0</td>\n",
       "      <td>23243</td>\n",
       "      <td>18227</td>\n",
       "      <td>18120.38</td>\n",
       "      <td>5.449247e+05</td>\n",
       "      <td>1.908637</td>\n",
       "      <td>2313.267496</td>\n",
       "      <td>4045.0</td>\n",
       "      <td>RO</td>\n",
       "      <td>1100049</td>\n",
       "      <td>RO</td>\n",
       "      <td>Cacoal</td>\n",
       "      <td>86416</td>\n",
       "      <td>2036</td>\n",
       "    </tr>\n",
       "    <tr>\n",
       "      <th>4</th>\n",
       "      <td>Rondônia</td>\n",
       "      <td>Cerejeiras</td>\n",
       "      <td>803.0</td>\n",
       "      <td>3556</td>\n",
       "      <td>2701</td>\n",
       "      <td>2647.39</td>\n",
       "      <td>8.497205e+04</td>\n",
       "      <td>2.037099</td>\n",
       "      <td>2468.964237</td>\n",
       "      <td>773.0</td>\n",
       "      <td>RO</td>\n",
       "      <td>1100056</td>\n",
       "      <td>RO</td>\n",
       "      <td>Cerejeiras</td>\n",
       "      <td>16088</td>\n",
       "      <td>635</td>\n",
       "    </tr>\n",
       "    <tr>\n",
       "      <th>...</th>\n",
       "      <td>...</td>\n",
       "      <td>...</td>\n",
       "      <td>...</td>\n",
       "      <td>...</td>\n",
       "      <td>...</td>\n",
       "      <td>...</td>\n",
       "      <td>...</td>\n",
       "      <td>...</td>\n",
       "      <td>...</td>\n",
       "      <td>...</td>\n",
       "      <td>...</td>\n",
       "      <td>...</td>\n",
       "      <td>...</td>\n",
       "      <td>...</td>\n",
       "      <td>...</td>\n",
       "      <td>...</td>\n",
       "    </tr>\n",
       "    <tr>\n",
       "      <th>5565</th>\n",
       "      <td>Goiás</td>\n",
       "      <td>Vianópolis</td>\n",
       "      <td>774.0</td>\n",
       "      <td>3442</td>\n",
       "      <td>2457</td>\n",
       "      <td>2441.01</td>\n",
       "      <td>8.411145e+04</td>\n",
       "      <td>2.186954</td>\n",
       "      <td>2650.587824</td>\n",
       "      <td>762.0</td>\n",
       "      <td>GO</td>\n",
       "      <td>5222005</td>\n",
       "      <td>GO</td>\n",
       "      <td>Vianópolis</td>\n",
       "      <td>14088</td>\n",
       "      <td>492</td>\n",
       "    </tr>\n",
       "    <tr>\n",
       "      <th>5566</th>\n",
       "      <td>Goiás</td>\n",
       "      <td>Vicentinópolis</td>\n",
       "      <td>342.0</td>\n",
       "      <td>2500</td>\n",
       "      <td>2129</td>\n",
       "      <td>2402.59</td>\n",
       "      <td>7.924238e+04</td>\n",
       "      <td>2.093302</td>\n",
       "      <td>2537.081938</td>\n",
       "      <td>339.0</td>\n",
       "      <td>GO</td>\n",
       "      <td>5222054</td>\n",
       "      <td>GO</td>\n",
       "      <td>Vicentinópolis</td>\n",
       "      <td>9002</td>\n",
       "      <td>474</td>\n",
       "    </tr>\n",
       "    <tr>\n",
       "      <th>5567</th>\n",
       "      <td>Goiás</td>\n",
       "      <td>Vila Boa</td>\n",
       "      <td>170.0</td>\n",
       "      <td>1120</td>\n",
       "      <td>927</td>\n",
       "      <td>1193.93</td>\n",
       "      <td>3.835152e+04</td>\n",
       "      <td>2.038721</td>\n",
       "      <td>2470.929812</td>\n",
       "      <td>167.0</td>\n",
       "      <td>GO</td>\n",
       "      <td>5222203</td>\n",
       "      <td>GO</td>\n",
       "      <td>Vila Boa</td>\n",
       "      <td>6451</td>\n",
       "      <td>309</td>\n",
       "    </tr>\n",
       "    <tr>\n",
       "      <th>5568</th>\n",
       "      <td>Goiás</td>\n",
       "      <td>Vila Propício</td>\n",
       "      <td>186.0</td>\n",
       "      <td>1533</td>\n",
       "      <td>1358</td>\n",
       "      <td>1282.25</td>\n",
       "      <td>3.979811e+04</td>\n",
       "      <td>1.969898</td>\n",
       "      <td>2387.516775</td>\n",
       "      <td>176.0</td>\n",
       "      <td>GO</td>\n",
       "      <td>5222302</td>\n",
       "      <td>GO</td>\n",
       "      <td>Vila Propício</td>\n",
       "      <td>5941</td>\n",
       "      <td>292</td>\n",
       "    </tr>\n",
       "    <tr>\n",
       "      <th>5569</th>\n",
       "      <td>Distrito Federal</td>\n",
       "      <td>Brasília</td>\n",
       "      <td>190432.0</td>\n",
       "      <td>1427471</td>\n",
       "      <td>1195111</td>\n",
       "      <td>1202029.55</td>\n",
       "      <td>9.222876e+07</td>\n",
       "      <td>4.869734</td>\n",
       "      <td>5902.11775</td>\n",
       "      <td>178067.0</td>\n",
       "      <td>DF</td>\n",
       "      <td>5300108</td>\n",
       "      <td>DF</td>\n",
       "      <td>Brasília</td>\n",
       "      <td>3094325</td>\n",
       "      <td>119204</td>\n",
       "    </tr>\n",
       "  </tbody>\n",
       "</table>\n",
       "<p>5570 rows × 16 columns</p>\n",
       "</div>"
      ],
      "text/plain": [
       "     Unidades da Federação              Municípios  ...      Pop Mreh0116\n",
       "0                 Rondônia  Alta Floresta D'Oeste   ...    22516     1352\n",
       "1                 Rondônia              Ariquemes   ...   111148     2774\n",
       "2                 Rondônia                 Cabixi   ...     5067      336\n",
       "3                 Rondônia                 Cacoal   ...    86416     2036\n",
       "4                 Rondônia             Cerejeiras   ...    16088      635\n",
       "...                    ...                     ...  ...      ...      ...\n",
       "5565                 Goiás             Vianópolis   ...    14088      492\n",
       "5566                 Goiás         Vicentinópolis   ...     9002      474\n",
       "5567                 Goiás               Vila Boa   ...     6451      309\n",
       "5568                 Goiás          Vila Propício   ...     5941      292\n",
       "5569      Distrito Federal               Brasília   ...  3094325   119204\n",
       "\n",
       "[5570 rows x 16 columns]"
      ]
     },
     "execution_count": null,
     "metadata": {},
     "output_type": "execute_result"
    }
   ],
   "source": [
    "df_merged"
   ]
  },
  {
   "cell_type": "code",
   "execution_count": 111,
   "metadata": {
    "vscode": {
     "languageId": "python"
    }
   },
   "outputs": [],
   "source": [
    "df_final= df_merged[['CodMun', 'UF','Municípios', 'Pessoal ocupado', 'Pop', \"Mreh0116\"]]\n"
   ]
  },
  {
   "cell_type": "code",
   "execution_count": 112,
   "metadata": {
    "vscode": {
     "languageId": "python"
    }
   },
   "outputs": [
    {
     "name": "stderr",
     "output_type": "stream",
     "text": [
      "<positron-console-cell-112>:3: SettingWithCopyWarning: \n",
      "A value is trying to be set on a copy of a slice from a DataFrame.\n",
      "Try using .loc[row_indexer,col_indexer] = value instead\n",
      "\n",
      "See the caveats in the documentation: https://pandas.pydata.org/pandas-docs/stable/user_guide/indexing.html#returning-a-view-versus-a-copy\n",
      "<positron-console-cell-112>:4: SettingWithCopyWarning: \n",
      "A value is trying to be set on a copy of a slice from a DataFrame.\n",
      "Try using .loc[row_indexer,col_indexer] = value instead\n",
      "\n",
      "See the caveats in the documentation: https://pandas.pydata.org/pandas-docs/stable/user_guide/indexing.html#returning-a-view-versus-a-copy\n",
      "<positron-console-cell-112>:5: SettingWithCopyWarning: \n",
      "A value is trying to be set on a copy of a slice from a DataFrame.\n",
      "Try using .loc[row_indexer,col_indexer] = value instead\n",
      "\n",
      "See the caveats in the documentation: https://pandas.pydata.org/pandas-docs/stable/user_guide/indexing.html#returning-a-view-versus-a-copy\n"
     ]
    }
   ],
   "source": [
    "import numpy as np\n",
    "\n",
    "df_final[df_final['Mreh0116'] == \"Não informou\"] = np.nan\n",
    "df_final[df_final['Mreh0116'] == \"Recusa\"] = np.nan\n",
    "df_final[df_final['Mreh0116'] == \"(*) Não soube informar\"] = np.nan"
   ]
  },
  {
   "cell_type": "code",
   "execution_count": 113,
   "metadata": {
    "vscode": {
     "languageId": "python"
    }
   },
   "outputs": [
    {
     "name": "stderr",
     "output_type": "stream",
     "text": [
      "<positron-console-cell-113>:2: SettingWithCopyWarning: \n",
      "A value is trying to be set on a copy of a slice from a DataFrame.\n",
      "Try using .loc[row_indexer,col_indexer] = value instead\n",
      "\n",
      "See the caveats in the documentation: https://pandas.pydata.org/pandas-docs/stable/user_guide/indexing.html#returning-a-view-versus-a-copy\n"
     ]
    }
   ],
   "source": [
    "df_final.dtypes\n",
    "df_final['Empregado_mun'] =df_final['Mreh0116'].astype(float)\n"
   ]
  },
  {
   "cell_type": "code",
   "execution_count": 114,
   "metadata": {
    "vscode": {
     "languageId": "python"
    }
   },
   "outputs": [
    {
     "name": "stderr",
     "output_type": "stream",
     "text": [
      "<positron-console-cell-114>:1: SettingWithCopyWarning: \n",
      "A value is trying to be set on a copy of a slice from a DataFrame.\n",
      "Try using .loc[row_indexer,col_indexer] = value instead\n",
      "\n",
      "See the caveats in the documentation: https://pandas.pydata.org/pandas-docs/stable/user_guide/indexing.html#returning-a-view-versus-a-copy\n"
     ]
    }
   ],
   "source": [
    "df_final[\"percent_empregado_mun\"] = df_final['Mreh0116']/df_final['Pessoal ocupado']"
   ]
  },
  {
   "cell_type": "code",
   "execution_count": 115,
   "metadata": {
    "vscode": {
     "languageId": "python"
    }
   },
   "outputs": [
    {
     "data": {
      "text/html": [
       "<div>\n",
       "<style scoped>\n",
       "    .dataframe tbody tr th:only-of-type {\n",
       "        vertical-align: middle;\n",
       "    }\n",
       "\n",
       "    .dataframe tbody tr th {\n",
       "        vertical-align: top;\n",
       "    }\n",
       "\n",
       "    .dataframe thead th {\n",
       "        text-align: right;\n",
       "    }\n",
       "</style>\n",
       "<table border=\"1\" class=\"dataframe\">\n",
       "  <thead>\n",
       "    <tr style=\"text-align: right;\">\n",
       "      <th></th>\n",
       "      <th>CodMun</th>\n",
       "      <th>UF</th>\n",
       "      <th>Municípios</th>\n",
       "      <th>Pessoal ocupado</th>\n",
       "      <th>Pop</th>\n",
       "      <th>Mreh0116</th>\n",
       "      <th>Empregado_mun</th>\n",
       "      <th>percent_empregado_mun</th>\n",
       "    </tr>\n",
       "  </thead>\n",
       "  <tbody>\n",
       "    <tr>\n",
       "      <th>0</th>\n",
       "      <td>1100015.0</td>\n",
       "      <td>RO</td>\n",
       "      <td>Alta Floresta D'Oeste</td>\n",
       "      <td>3706</td>\n",
       "      <td>22516.0</td>\n",
       "      <td>1352</td>\n",
       "      <td>1352.0</td>\n",
       "      <td>0.364814</td>\n",
       "    </tr>\n",
       "    <tr>\n",
       "      <th>1</th>\n",
       "      <td>1100023.0</td>\n",
       "      <td>RO</td>\n",
       "      <td>Ariquemes</td>\n",
       "      <td>24810</td>\n",
       "      <td>111148.0</td>\n",
       "      <td>2774</td>\n",
       "      <td>2774.0</td>\n",
       "      <td>0.11181</td>\n",
       "    </tr>\n",
       "    <tr>\n",
       "      <th>2</th>\n",
       "      <td>1100031.0</td>\n",
       "      <td>RO</td>\n",
       "      <td>Cabixi</td>\n",
       "      <td>805</td>\n",
       "      <td>5067.0</td>\n",
       "      <td>336</td>\n",
       "      <td>336.0</td>\n",
       "      <td>0.417391</td>\n",
       "    </tr>\n",
       "    <tr>\n",
       "      <th>3</th>\n",
       "      <td>1100049.0</td>\n",
       "      <td>RO</td>\n",
       "      <td>Cacoal</td>\n",
       "      <td>23243</td>\n",
       "      <td>86416.0</td>\n",
       "      <td>2036</td>\n",
       "      <td>2036.0</td>\n",
       "      <td>0.087596</td>\n",
       "    </tr>\n",
       "    <tr>\n",
       "      <th>4</th>\n",
       "      <td>1100056.0</td>\n",
       "      <td>RO</td>\n",
       "      <td>Cerejeiras</td>\n",
       "      <td>3556</td>\n",
       "      <td>16088.0</td>\n",
       "      <td>635</td>\n",
       "      <td>635.0</td>\n",
       "      <td>0.178571</td>\n",
       "    </tr>\n",
       "    <tr>\n",
       "      <th>...</th>\n",
       "      <td>...</td>\n",
       "      <td>...</td>\n",
       "      <td>...</td>\n",
       "      <td>...</td>\n",
       "      <td>...</td>\n",
       "      <td>...</td>\n",
       "      <td>...</td>\n",
       "      <td>...</td>\n",
       "    </tr>\n",
       "    <tr>\n",
       "      <th>5565</th>\n",
       "      <td>5222005.0</td>\n",
       "      <td>GO</td>\n",
       "      <td>Vianópolis</td>\n",
       "      <td>3442</td>\n",
       "      <td>14088.0</td>\n",
       "      <td>492</td>\n",
       "      <td>492.0</td>\n",
       "      <td>0.14294</td>\n",
       "    </tr>\n",
       "    <tr>\n",
       "      <th>5566</th>\n",
       "      <td>5222054.0</td>\n",
       "      <td>GO</td>\n",
       "      <td>Vicentinópolis</td>\n",
       "      <td>2500</td>\n",
       "      <td>9002.0</td>\n",
       "      <td>474</td>\n",
       "      <td>474.0</td>\n",
       "      <td>0.1896</td>\n",
       "    </tr>\n",
       "    <tr>\n",
       "      <th>5567</th>\n",
       "      <td>5222203.0</td>\n",
       "      <td>GO</td>\n",
       "      <td>Vila Boa</td>\n",
       "      <td>1120</td>\n",
       "      <td>6451.0</td>\n",
       "      <td>309</td>\n",
       "      <td>309.0</td>\n",
       "      <td>0.275893</td>\n",
       "    </tr>\n",
       "    <tr>\n",
       "      <th>5568</th>\n",
       "      <td>5222302.0</td>\n",
       "      <td>GO</td>\n",
       "      <td>Vila Propício</td>\n",
       "      <td>1533</td>\n",
       "      <td>5941.0</td>\n",
       "      <td>292</td>\n",
       "      <td>292.0</td>\n",
       "      <td>0.190476</td>\n",
       "    </tr>\n",
       "    <tr>\n",
       "      <th>5569</th>\n",
       "      <td>5300108.0</td>\n",
       "      <td>DF</td>\n",
       "      <td>Brasília</td>\n",
       "      <td>1427471</td>\n",
       "      <td>3094325.0</td>\n",
       "      <td>119204</td>\n",
       "      <td>119204.0</td>\n",
       "      <td>0.083507</td>\n",
       "    </tr>\n",
       "  </tbody>\n",
       "</table>\n",
       "<p>5570 rows × 8 columns</p>\n",
       "</div>"
      ],
      "text/plain": [
       "         CodMun  UF  ... Empregado_mun percent_empregado_mun\n",
       "0     1100015.0  RO  ...        1352.0              0.364814\n",
       "1     1100023.0  RO  ...        2774.0               0.11181\n",
       "2     1100031.0  RO  ...         336.0              0.417391\n",
       "3     1100049.0  RO  ...        2036.0              0.087596\n",
       "4     1100056.0  RO  ...         635.0              0.178571\n",
       "...         ...  ..  ...           ...                   ...\n",
       "5565  5222005.0  GO  ...         492.0               0.14294\n",
       "5566  5222054.0  GO  ...         474.0                0.1896\n",
       "5567  5222203.0  GO  ...         309.0              0.275893\n",
       "5568  5222302.0  GO  ...         292.0              0.190476\n",
       "5569  5300108.0  DF  ...      119204.0              0.083507\n",
       "\n",
       "[5570 rows x 8 columns]"
      ]
     },
     "execution_count": null,
     "metadata": {},
     "output_type": "execute_result"
    }
   ],
   "source": [
    "df_final"
   ]
  },
  {
   "cell_type": "code",
   "execution_count": 117,
   "metadata": {
    "vscode": {
     "languageId": "python"
    }
   },
   "outputs": [],
   "source": [
    "df_final.to_csv(\"percent_emprego_pub.csv\")"
   ]
  },
  {
   "cell_type": "code",
   "execution_count": 118,
   "metadata": {
    "vscode": {
     "languageId": "python"
    }
   },
   "outputs": [],
   "source": [
    "receita_muni = pd.read_excel(\"Receita_muni.xls\")"
   ]
  },
  {
   "cell_type": "code",
   "execution_count": 119,
   "metadata": {
    "vscode": {
     "languageId": "python"
    }
   },
   "outputs": [
    {
     "data": {
      "text/html": [
       "<div>\n",
       "<style scoped>\n",
       "    .dataframe tbody tr th:only-of-type {\n",
       "        vertical-align: middle;\n",
       "    }\n",
       "\n",
       "    .dataframe tbody tr th {\n",
       "        vertical-align: top;\n",
       "    }\n",
       "\n",
       "    .dataframe thead th {\n",
       "        text-align: right;\n",
       "    }\n",
       "</style>\n",
       "<table border=\"1\" class=\"dataframe\">\n",
       "  <thead>\n",
       "    <tr style=\"text-align: right;\">\n",
       "      <th></th>\n",
       "      <th>Sigla</th>\n",
       "      <th>Codigo</th>\n",
       "      <th>Município</th>\n",
       "      <th>Receita orçamentária - receita bruta - municipal (2021)</th>\n",
       "      <th>Receita corrente - receita bruta - municipal (2021)</th>\n",
       "      <th>Receita corrente - receita bruta - impostos, taxas e contribuições de melhoria - municipal (2021)</th>\n",
       "      <th>Receita de capital - receita bruta - municipal (2021)</th>\n",
       "      <th>Transferências correntes de tributos estaduais - cota-parte ICMS e IPVA - municipal (2021)</th>\n",
       "      <th>Cota-parte do fundo de participação dos municípios (FPM) (2021)</th>\n",
       "      <th>Receita corrente - receita bruta - transferências correntes - municipal (2021)</th>\n",
       "      <th>Receita de capital - transferências de capital - transferências dos estados, do Distrito Federal e de suas entidades (2021)</th>\n",
       "      <th>Receita de capital - transferências de capital - transferências da União e de suas entidades (2021)</th>\n",
       "      <th>Receita de capital - receita bruta - transferências de capital - municipal (2021)</th>\n",
       "    </tr>\n",
       "  </thead>\n",
       "  <tbody>\n",
       "    <tr>\n",
       "      <th>0</th>\n",
       "      <td>AC</td>\n",
       "      <td>1200013</td>\n",
       "      <td>Acrelândia</td>\n",
       "      <td>44696191.31</td>\n",
       "      <td>42897415.56</td>\n",
       "      <td>1195520.23</td>\n",
       "      <td>1798775.75</td>\n",
       "      <td>6279131.37</td>\n",
       "      <td>12926177.72</td>\n",
       "      <td>39937669.79</td>\n",
       "      <td>0.00</td>\n",
       "      <td>1798775.75</td>\n",
       "      <td>1798775.75</td>\n",
       "    </tr>\n",
       "    <tr>\n",
       "      <th>1</th>\n",
       "      <td>AC</td>\n",
       "      <td>1200054</td>\n",
       "      <td>Assis Brasil</td>\n",
       "      <td>34097916.62</td>\n",
       "      <td>33119448.58</td>\n",
       "      <td>1076960.89</td>\n",
       "      <td>978468.04</td>\n",
       "      <td>6186324.04</td>\n",
       "      <td>7755707.14</td>\n",
       "      <td>31711801.62</td>\n",
       "      <td>0.00</td>\n",
       "      <td>978468.04</td>\n",
       "      <td>978468.04</td>\n",
       "    </tr>\n",
       "    <tr>\n",
       "      <th>2</th>\n",
       "      <td>AC</td>\n",
       "      <td>1200104</td>\n",
       "      <td>Brasiléia</td>\n",
       "      <td>82313796.36</td>\n",
       "      <td>76174339.06</td>\n",
       "      <td>4352608.12</td>\n",
       "      <td>6139457.30</td>\n",
       "      <td>20197078.02</td>\n",
       "      <td>18096649.96</td>\n",
       "      <td>70351080.71</td>\n",
       "      <td>851050.92</td>\n",
       "      <td>5288406.38</td>\n",
       "      <td>6139457.30</td>\n",
       "    </tr>\n",
       "    <tr>\n",
       "      <th>3</th>\n",
       "      <td>AC</td>\n",
       "      <td>1200138</td>\n",
       "      <td>Bujari</td>\n",
       "      <td>35610485.27</td>\n",
       "      <td>34690819.83</td>\n",
       "      <td>1197519.23</td>\n",
       "      <td>919665.44</td>\n",
       "      <td>6023987.10</td>\n",
       "      <td>10340980.38</td>\n",
       "      <td>32818329.12</td>\n",
       "      <td>0.00</td>\n",
       "      <td>919665.44</td>\n",
       "      <td>919665.44</td>\n",
       "    </tr>\n",
       "    <tr>\n",
       "      <th>4</th>\n",
       "      <td>AC</td>\n",
       "      <td>1200179</td>\n",
       "      <td>Capixaba</td>\n",
       "      <td>38527096.68</td>\n",
       "      <td>36924673.30</td>\n",
       "      <td>1378481.09</td>\n",
       "      <td>1602423.38</td>\n",
       "      <td>5738252.86</td>\n",
       "      <td>10340942.83</td>\n",
       "      <td>35035516.95</td>\n",
       "      <td>0.00</td>\n",
       "      <td>1602423.38</td>\n",
       "      <td>1602423.38</td>\n",
       "    </tr>\n",
       "    <tr>\n",
       "      <th>...</th>\n",
       "      <td>...</td>\n",
       "      <td>...</td>\n",
       "      <td>...</td>\n",
       "      <td>...</td>\n",
       "      <td>...</td>\n",
       "      <td>...</td>\n",
       "      <td>...</td>\n",
       "      <td>...</td>\n",
       "      <td>...</td>\n",
       "      <td>...</td>\n",
       "      <td>...</td>\n",
       "      <td>...</td>\n",
       "      <td>...</td>\n",
       "    </tr>\n",
       "    <tr>\n",
       "      <th>5591</th>\n",
       "      <td>TO</td>\n",
       "      <td>1721208</td>\n",
       "      <td>Tocantinópolis</td>\n",
       "      <td>73467787.96</td>\n",
       "      <td>67328805.71</td>\n",
       "      <td>3672894.29</td>\n",
       "      <td>6138982.25</td>\n",
       "      <td>12049465.74</td>\n",
       "      <td>18875243.45</td>\n",
       "      <td>62791601.79</td>\n",
       "      <td>1764154.66</td>\n",
       "      <td>4374827.59</td>\n",
       "      <td>6138982.25</td>\n",
       "    </tr>\n",
       "    <tr>\n",
       "      <th>5592</th>\n",
       "      <td>TO</td>\n",
       "      <td>1721257</td>\n",
       "      <td>Tupirama</td>\n",
       "      <td>14624744.13</td>\n",
       "      <td>14321149.45</td>\n",
       "      <td>423333.22</td>\n",
       "      <td>303594.68</td>\n",
       "      <td>1848224.03</td>\n",
       "      <td>8175522.72</td>\n",
       "      <td>13849671.69</td>\n",
       "      <td>0.00</td>\n",
       "      <td>303594.68</td>\n",
       "      <td>303594.68</td>\n",
       "    </tr>\n",
       "    <tr>\n",
       "      <th>5593</th>\n",
       "      <td>TO</td>\n",
       "      <td>1721307</td>\n",
       "      <td>Tupiratins</td>\n",
       "      <td>16611946.27</td>\n",
       "      <td>15461523.84</td>\n",
       "      <td>515523.96</td>\n",
       "      <td>1150422.43</td>\n",
       "      <td>1446501.11</td>\n",
       "      <td>9437621.66</td>\n",
       "      <td>14890266.24</td>\n",
       "      <td>0.00</td>\n",
       "      <td>1150422.43</td>\n",
       "      <td>1150422.43</td>\n",
       "    </tr>\n",
       "    <tr>\n",
       "      <th>5594</th>\n",
       "      <td>TO</td>\n",
       "      <td>1722081</td>\n",
       "      <td>Wanderlândia</td>\n",
       "      <td>35907211.31</td>\n",
       "      <td>33473956.65</td>\n",
       "      <td>1779472.18</td>\n",
       "      <td>2433254.66</td>\n",
       "      <td>4826715.58</td>\n",
       "      <td>12583495.63</td>\n",
       "      <td>31590860.43</td>\n",
       "      <td>763666.66</td>\n",
       "      <td>1669588.00</td>\n",
       "      <td>2433254.66</td>\n",
       "    </tr>\n",
       "    <tr>\n",
       "      <th>5595</th>\n",
       "      <td>TO</td>\n",
       "      <td>1722107</td>\n",
       "      <td>Xambioá</td>\n",
       "      <td>45147264.16</td>\n",
       "      <td>43709664.16</td>\n",
       "      <td>3866726.59</td>\n",
       "      <td>1437600.00</td>\n",
       "      <td>10459136.64</td>\n",
       "      <td>12583495.63</td>\n",
       "      <td>39355851.33</td>\n",
       "      <td>291000.00</td>\n",
       "      <td>1146600.00</td>\n",
       "      <td>1437600.00</td>\n",
       "    </tr>\n",
       "  </tbody>\n",
       "</table>\n",
       "<p>5596 rows × 13 columns</p>\n",
       "</div>"
      ],
      "text/plain": [
       "     Sigla  ...  Receita de capital - receita bruta - transferências de capital - municipal (2021)\n",
       "0       AC  ...                                         1798775.75                                \n",
       "1       AC  ...                                          978468.04                                \n",
       "2       AC  ...                                         6139457.30                                \n",
       "3       AC  ...                                          919665.44                                \n",
       "4       AC  ...                                         1602423.38                                \n",
       "...    ...  ...                                                ...                                \n",
       "5591    TO  ...                                         6138982.25                                \n",
       "5592    TO  ...                                          303594.68                                \n",
       "5593    TO  ...                                         1150422.43                                \n",
       "5594    TO  ...                                         2433254.66                                \n",
       "5595    TO  ...                                         1437600.00                                \n",
       "\n",
       "[5596 rows x 13 columns]"
      ]
     },
     "execution_count": null,
     "metadata": {},
     "output_type": "execute_result"
    }
   ],
   "source": [
    "receita_muni"
   ]
  },
  {
   "cell_type": "code",
   "execution_count": 121,
   "metadata": {
    "vscode": {
     "languageId": "python"
    }
   },
   "outputs": [],
   "source": [
    "porce_transfe =receita_muni['Receita corrente - receita bruta - transferências correntes - municipal (2021)'] /receita_muni['Receita corrente - receita bruta - municipal (2021)']"
   ]
  },
  {
   "cell_type": "code",
   "execution_count": 122,
   "metadata": {
    "vscode": {
     "languageId": "python"
    }
   },
   "outputs": [
    {
     "data": {
      "text/plain": [
       "0       0.931004\n",
       "1       0.957498\n",
       "2       0.923554\n",
       "3       0.946023\n",
       "4       0.948838\n",
       "          ...   \n",
       "5591    0.932611\n",
       "5592    0.967078\n",
       "5593    0.963053\n",
       "5594    0.943744\n",
       "5595    0.900392\n",
       "Length: 5596, dtype: float64"
      ]
     },
     "execution_count": null,
     "metadata": {},
     "output_type": "execute_result"
    }
   ],
   "source": [
    "porce_transfe"
   ]
  },
  {
   "cell_type": "code",
   "execution_count": 126,
   "metadata": {
    "vscode": {
     "languageId": "python"
    }
   },
   "outputs": [
    {
     "data": {
      "text/plain": [
       "(0.8734784668667147, 0.10050337383653742)"
      ]
     },
     "execution_count": null,
     "metadata": {},
     "output_type": "execute_result"
    }
   ],
   "source": [
    "np.mean(porce_transfe), np.std(porce_transfe) "
   ]
  },
  {
   "cell_type": "code",
   "execution_count": 152,
   "metadata": {
    "vscode": {
     "languageId": "python"
    }
   },
   "outputs": [
    {
     "data": {
      "text/plain": [
       "(51, 63)"
      ]
     },
     "execution_count": null,
     "metadata": {},
     "output_type": "execute_result"
    }
   ],
   "source": [
    "receita_muni['Cota-parte do fundo de participação dos municípios (FPM) (2021)'].isna().sum(), receita_muni['Receita corrente - receita bruta - municipal (2021)'].isna().sum()"
   ]
  },
  {
   "cell_type": "code",
   "execution_count": 127,
   "metadata": {
    "vscode": {
     "languageId": "python"
    }
   },
   "outputs": [],
   "source": [
    "porce_transfe_2 =receita_muni['Cota-parte do fundo de participação dos municípios (FPM) (2021)'] /receita_muni['Receita corrente - receita bruta - municipal (2021)']"
   ]
  },
  {
   "cell_type": "code",
   "execution_count": 128,
   "metadata": {
    "vscode": {
     "languageId": "python"
    }
   },
   "outputs": [
    {
     "data": {
      "text/plain": [
       "0       0.301328\n",
       "1       0.234174\n",
       "2       0.237569\n",
       "3       0.298090\n",
       "4       0.280055\n",
       "          ...   \n",
       "5591    0.280344\n",
       "5592    0.570871\n",
       "5593    0.610394\n",
       "5594    0.375919\n",
       "5595    0.287888\n",
       "Length: 5596, dtype: float64"
      ]
     },
     "execution_count": null,
     "metadata": {},
     "output_type": "execute_result"
    }
   ],
   "source": [
    "porce_transfe_2"
   ]
  },
  {
   "cell_type": "code",
   "execution_count": 130,
   "metadata": {
    "vscode": {
     "languageId": "python"
    }
   },
   "outputs": [
    {
     "data": {
      "text/plain": [
       "(0.3351673484069393, 0.13003355770520442)"
      ]
     },
     "execution_count": null,
     "metadata": {},
     "output_type": "execute_result"
    }
   ],
   "source": [
    "np.mean(porce_transfe_2), np.std(porce_transfe_2)"
   ]
  },
  {
   "cell_type": "code",
   "execution_count": 137,
   "metadata": {
    "vscode": {
     "languageId": "python"
    }
   },
   "outputs": [],
   "source": [
    "porce_transfe.isna().sum(), receita_muni['Receita corrente - receita bruta - municipal (2021)'].isna().sum()\n",
    "receita_muni_cor = receita_muni['Receita corrente - receita bruta - municipal (2021)'].dropna()\n"
   ]
  },
  {
   "cell_type": "code",
   "execution_count": 153,
   "metadata": {
    "vscode": {
     "languageId": "python"
    }
   },
   "outputs": [
    {
     "data": {
      "text/plain": [
       "((5533,), (5533,), (5533,))"
      ]
     },
     "execution_count": null,
     "metadata": {},
     "output_type": "execute_result"
    }
   ],
   "source": [
    "np.shape(porce_transfe_2), np.shape(receita_muni_cor), np.shape(porce_transfe)"
   ]
  },
  {
   "cell_type": "code",
   "execution_count": 155,
   "metadata": {
    "vscode": {
     "languageId": "python"
    }
   },
   "outputs": [
    {
     "data": {
      "text/plain": [
       "(array([[ 1.        , -0.26612669],\n",
       "        [-0.26612669,  1.        ]]),\n",
       " array([[ 1.        , -0.18875874],\n",
       "        [-0.18875874,  1.        ]]))"
      ]
     },
     "execution_count": null,
     "metadata": {},
     "output_type": "execute_result"
    }
   ],
   "source": [
    "np.corrcoef(porce_transfe, receita_muni_cor), np.corrcoef(porce_transfe_2, receita_muni_cor)"
   ]
  },
  {
   "cell_type": "code",
   "execution_count": 156,
   "metadata": {
    "vscode": {
     "languageId": "python"
    }
   },
   "outputs": [
    {
     "data": {
      "text/plain": [
       "0       0.931004\n",
       "1       0.957498\n",
       "2       0.923554\n",
       "3       0.946023\n",
       "4       0.948838\n",
       "          ...   \n",
       "5591    0.932611\n",
       "5592    0.967078\n",
       "5593    0.963053\n",
       "5594    0.943744\n",
       "5595    0.900392\n",
       "Length: 5533, dtype: float64"
      ]
     },
     "execution_count": null,
     "metadata": {},
     "output_type": "execute_result"
    }
   ],
   "source": [
    "porce_transfe"
   ]
  },
  {
   "cell_type": "code",
   "execution_count": 159,
   "metadata": {
    "vscode": {
     "languageId": "python"
    }
   },
   "outputs": [],
   "source": [
    "data= pd.read_csv(\"regress_dados_atualizados.csv\")\n"
   ]
  },
  {
   "cell_type": "code",
   "execution_count": 179,
   "metadata": {
    "vscode": {
     "languageId": "python"
    }
   },
   "outputs": [
    {
     "data": {
      "image/png": "[encoded data removed]",
      "text/plain": [
       "<Figure size 1000x600 with 1 Axes>"
      ]
     },
     "metadata": {},
     "output_type": "display_data"
    }
   ],
   "source": [
    "import matplotlib.pyplot as plt\n",
    "import matplotlib.colors as mcolors\n",
    "import pandas as pd\n",
    "\n",
    "# Assuming `data` is your DataFrame\n",
    "\n",
    "# Create bins for `percent_bolsa`\n",
    "bins_bolsa = pd.cut(data['percent_bolsa'], bins=5, labels=False)\n",
    "\n",
    "# Calculate the mean `percentage_votos_centrao` for each bin\n",
    "bolsa_means = data.groupby(bins_bolsa)['percentage_votos_centrao'].mean()\n",
    "\n",
    "# Normalize for color mapping\n",
    "norm = mcolors.Normalize(vmin=bolsa_means.min(), vmax=bolsa_means.max())\n",
    "colors = ['grey', 'grey', 'grey', 'red', 'red']\n",
    "\n",
    "# Plotting with specified axis for color bar\n",
    "fig, ax = plt.subplots(figsize=(10, 6))\n",
    "bars = ax.bar(range(len(bolsa_means)), bolsa_means, color=colors)\n",
    "ax.set_xticks(range(len(bolsa_means)))\n",
    "ax.set_xticklabels([\"Muito Baixo\", \"Baixo\", \"Medio\", \"Alto\", \"Muito Alto\"])\n",
    "ax.set_xlabel('Porcentagem de Bolsa Familia')\n",
    "ax.set_ylabel('Media de Votos Centrao')\n",
    "ax.set_title('Media de Votos Centrao por nivel de Bolsa Familia')\n",
    "ax.grid(visible=True, which=\"major\", axis=\"y\", linestyle=\"--\")\n",
    "\n",
    "\n",
    "\n",
    "plt.show()\n"
   ]
  },
  {
   "cell_type": "code",
   "execution_count": 180,
   "metadata": {
    "vscode": {
     "languageId": "python"
    }
   },
   "outputs": [],
   "source": [
    "fig.savefig(\"high_resolution_plot.png\", dpi=300, bbox_inches='tight')  # Saves with 300 dpi for high quality\n"
   ]
  },
  {
   "cell_type": "code",
   "execution_count": 181,
   "metadata": {
    "vscode": {
     "languageId": "python"
    }
   },
   "outputs": [
    {
     "data": {
      "image/png": "[encoded data removed]",
      "text/plain": [
       "<Figure size 1000x600 with 1 Axes>"
      ]
     },
     "metadata": {},
     "output_type": "display_data"
    }
   ],
   "source": [
    "import matplotlib.pyplot as plt\n",
    "import matplotlib.colors as mcolors\n",
    "import pandas as pd\n",
    "\n",
    "# Assuming `data` is your DataFrame\n",
    "\n",
    "# Create bins for `percent_bolsa`\n",
    "bins_bolsa = pd.cut(data['percent_transfer'], bins=5, labels=False)\n",
    "\n",
    "# Calculate the mean `percentage_votos_centrao` for each bin\n",
    "bolsa_means = data.groupby(bins_bolsa)['percentage_votos_centrao'].mean()\n",
    "\n",
    "# Normalize for color mapping\n",
    "norm = mcolors.Normalize(vmin=bolsa_means.min(), vmax=bolsa_means.max())\n",
    "colors = ['grey', 'grey', 'grey', 'red', 'red']\n",
    "\n",
    "# Plotting with specified axis for color bar\n",
    "fig, ax = plt.subplots(figsize=(10, 6))\n",
    "bars = ax.bar(range(len(bolsa_means)), bolsa_means, color=colors)\n",
    "ax.set_xticks(range(len(bolsa_means)))\n",
    "ax.set_xticklabels([\"Muito Baixo\", \"Baixo\", \"Medio\", \"Alto\", \"Muito Alto\"])\n",
    "ax.set_xlabel('Porcentagem de Bolsa Familia')\n",
    "ax.set_ylabel('Media de Votos Centrao')\n",
    "ax.set_title('Media de Votos Centrao por nivel de Bolsa Familia')\n",
    "ax.grid(visible=True, which=\"major\", axis=\"y\", linestyle=\"--\")\n",
    "\n",
    "\n",
    "\n",
    "plt.show()\n"
   ]
  }
 ],
 "metadata": {
  "language_info": {
   "name": "plaintext"
  }
 },
 "nbformat": 4,
 "nbformat_minor": 2
}
