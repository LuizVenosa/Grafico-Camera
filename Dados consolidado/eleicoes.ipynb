{
 "cells": [
  {
   "cell_type": "code",
   "execution_count": 26,
   "metadata": {},
   "outputs": [],
   "source": [
    "import pandas as pd\n",
    "eleicao_dados_2002 = pd.read_csv('votacao_candidato-municipio_deputado_federal_2002.csv\\\\votacao_candidato-municipio_deputado_federal_2002.csv')\n",
    "eleicao_dados_2006 = pd.read_csv('votacao_candidato-municipio_deputado_federal_2006.csv\\\\votacao_candidato-municipio_deputado_federal_2006.csv')\n",
    "eleicao_dados_2010 = pd.read_csv('votacao_candidato-municipio_deputado_federal_2010.csv\\\\votacao_candidato-municipio_deputado_federal_2010.csv')\n",
    "eleicao_dados_2014 = pd.read_csv('votacao_candidato-municipio_deputado_federal_2014.csv\\\\votacao_candidato-municipio_deputado_federal_2014.csv')\n",
    "eleicao_dados_2018 = pd.read_csv('votacao_candidato-municipio_deputado_federal_2018.csv\\\\votacao_candidato-municipio_deputado_federal_2018.csv')\n"
   ]
  },
  {
   "cell_type": "code",
   "execution_count": 27,
   "metadata": {},
   "outputs": [],
   "source": [
    "centrao_2003 = pd.read_csv('..\\\\porposicoes\\\\centrao_2003.csv')\n",
    "centrao_2007 = pd.read_csv('..\\\\porposicoes\\\\centrao_2007.csv')\n",
    "centrao_2011 = pd.read_csv('..\\\\porposicoes\\\\centrao_2011.csv')\n",
    "centrao_2015 = pd.read_csv('..\\\\porposicoes\\\\centrao_2015.csv') \n",
    "centrao_2019 = pd.read_csv('..\\\\porposicoes\\\\centrao_2019.csv')"
   ]
  },
  {
   "cell_type": "code",
   "execution_count": 28,
   "metadata": {},
   "outputs": [],
   "source": [
    "eleicao_centrao_2002 = eleicao_dados_2002[eleicao_dados_2002['nm_urna_candidato'].isin(centrao_2003['0'].str.upper())]"
   ]
  },
  {
   "cell_type": "code",
   "execution_count": 29,
   "metadata": {},
   "outputs": [
    {
     "data": {
      "text/plain": [
       "5273"
      ]
     },
     "execution_count": 29,
     "metadata": {},
     "output_type": "execute_result"
    }
   ],
   "source": [
    "len(eleicao_centrao_2002['nm_municipio'].unique())"
   ]
  },
  {
   "cell_type": "code",
   "execution_count": 30,
   "metadata": {},
   "outputs": [
    {
     "data": {
      "text/plain": [
       "nm_municipio\n",
       "ABADIA DE GOIAS        1466\n",
       "ABADIA DOS DOURADOS     415\n",
       "ABADIANIA              1958\n",
       "ABAETE                 5329\n",
       "ABAETETUBA             8718\n",
       "                       ... \n",
       "XIQUE XIQUE            6581\n",
       "ZABELE                  172\n",
       "ZACARIAS                209\n",
       "ZE DOCA                2134\n",
       "ZORTEA                  305\n",
       "Length: 5273, dtype: int64"
      ]
     },
     "execution_count": 30,
     "metadata": {},
     "output_type": "execute_result"
    }
   ],
   "source": [
    "votos_centrao_por_municipio_2002 = pd.pivot_table(eleicao_centrao_2002, index='nm_municipio', columns='nm_candidato', values='qt_votos_nom_validos', aggfunc='sum', fill_value=0)\n",
    "total_2002 = eleicao_dados_2002.groupby('nm_municipio')['qt_votos_nom_validos'].sum()\n",
    "votos_centrao_soma_2002 = votos_centrao_por_municipio_2002.sum(axis=1)\n",
    "votos_centrao_soma_2002"
   ]
  },
  {
   "cell_type": "code",
   "execution_count": 31,
   "metadata": {},
   "outputs": [],
   "source": [
    "percentage_votos_centrao_2002 = (votos_centrao_soma_2002 / total_2002)\n",
    "percentage_votos_centrao_2002 = pd.DataFrame(percentage_votos_centrao_2002)\n",
    "unique_siglas = eleicao_dados_2002[['nm_municipio', 'sg_uf']].drop_duplicates(subset=['nm_municipio'])\n",
    "\n",
    "percentage_votos_centrao_2002 = percentage_votos_centrao_2002.merge(unique_siglas, on='nm_municipio')\n",
    "percentage_votos_centrao_2002.to_csv('indice_centrao_2002.csv')"
   ]
  },
  {
   "cell_type": "code",
   "execution_count": 32,
   "metadata": {},
   "outputs": [
    {
     "data": {
      "text/html": [
       "<div>\n",
       "<style scoped>\n",
       "    .dataframe tbody tr th:only-of-type {\n",
       "        vertical-align: middle;\n",
       "    }\n",
       "\n",
       "    .dataframe tbody tr th {\n",
       "        vertical-align: top;\n",
       "    }\n",
       "\n",
       "    .dataframe thead th {\n",
       "        text-align: right;\n",
       "    }\n",
       "</style>\n",
       "<table border=\"1\" class=\"dataframe\">\n",
       "  <thead>\n",
       "    <tr style=\"text-align: right;\">\n",
       "      <th></th>\n",
       "      <th>nm_municipio</th>\n",
       "      <th>0</th>\n",
       "      <th>sg_uf</th>\n",
       "    </tr>\n",
       "  </thead>\n",
       "  <tbody>\n",
       "    <tr>\n",
       "      <th>0</th>\n",
       "      <td>ABADIA DE GOIAS</td>\n",
       "      <td>0.532897</td>\n",
       "      <td>GO</td>\n",
       "    </tr>\n",
       "    <tr>\n",
       "      <th>1</th>\n",
       "      <td>ABADIA DOS DOURADOS</td>\n",
       "      <td>0.113048</td>\n",
       "      <td>MG</td>\n",
       "    </tr>\n",
       "    <tr>\n",
       "      <th>2</th>\n",
       "      <td>ABADIANIA</td>\n",
       "      <td>0.361055</td>\n",
       "      <td>GO</td>\n",
       "    </tr>\n",
       "    <tr>\n",
       "      <th>3</th>\n",
       "      <td>ABAETE</td>\n",
       "      <td>0.489618</td>\n",
       "      <td>MG</td>\n",
       "    </tr>\n",
       "    <tr>\n",
       "      <th>4</th>\n",
       "      <td>ABAETETUBA</td>\n",
       "      <td>0.174587</td>\n",
       "      <td>PA</td>\n",
       "    </tr>\n",
       "    <tr>\n",
       "      <th>...</th>\n",
       "      <td>...</td>\n",
       "      <td>...</td>\n",
       "      <td>...</td>\n",
       "    </tr>\n",
       "    <tr>\n",
       "      <th>5273</th>\n",
       "      <td>XIQUE XIQUE</td>\n",
       "      <td>0.347557</td>\n",
       "      <td>BA</td>\n",
       "    </tr>\n",
       "    <tr>\n",
       "      <th>5274</th>\n",
       "      <td>ZABELE</td>\n",
       "      <td>0.179167</td>\n",
       "      <td>PB</td>\n",
       "    </tr>\n",
       "    <tr>\n",
       "      <th>5275</th>\n",
       "      <td>ZACARIAS</td>\n",
       "      <td>0.184792</td>\n",
       "      <td>SP</td>\n",
       "    </tr>\n",
       "    <tr>\n",
       "      <th>5276</th>\n",
       "      <td>ZE DOCA</td>\n",
       "      <td>0.140979</td>\n",
       "      <td>MA</td>\n",
       "    </tr>\n",
       "    <tr>\n",
       "      <th>5277</th>\n",
       "      <td>ZORTEA</td>\n",
       "      <td>0.197667</td>\n",
       "      <td>SC</td>\n",
       "    </tr>\n",
       "  </tbody>\n",
       "</table>\n",
       "<p>5278 rows × 3 columns</p>\n",
       "</div>"
      ],
      "text/plain": [
       "             nm_municipio         0 sg_uf\n",
       "0         ABADIA DE GOIAS  0.532897    GO\n",
       "1     ABADIA DOS DOURADOS  0.113048    MG\n",
       "2               ABADIANIA  0.361055    GO\n",
       "3                  ABAETE  0.489618    MG\n",
       "4              ABAETETUBA  0.174587    PA\n",
       "...                   ...       ...   ...\n",
       "5273          XIQUE XIQUE  0.347557    BA\n",
       "5274               ZABELE  0.179167    PB\n",
       "5275             ZACARIAS  0.184792    SP\n",
       "5276              ZE DOCA  0.140979    MA\n",
       "5277               ZORTEA  0.197667    SC\n",
       "\n",
       "[5278 rows x 3 columns]"
      ]
     },
     "execution_count": 32,
     "metadata": {},
     "output_type": "execute_result"
    }
   ],
   "source": [
    "percentage_votos_centrao_2002"
   ]
  },
  {
   "cell_type": "code",
   "execution_count": 33,
   "metadata": {},
   "outputs": [
    {
     "data": {
      "text/html": [
       "<div>\n",
       "<style scoped>\n",
       "    .dataframe tbody tr th:only-of-type {\n",
       "        vertical-align: middle;\n",
       "    }\n",
       "\n",
       "    .dataframe tbody tr th {\n",
       "        vertical-align: top;\n",
       "    }\n",
       "\n",
       "    .dataframe thead th {\n",
       "        text-align: right;\n",
       "    }\n",
       "</style>\n",
       "<table border=\"1\" class=\"dataframe\">\n",
       "  <thead>\n",
       "    <tr style=\"text-align: right;\">\n",
       "      <th></th>\n",
       "      <th>nm_municipio</th>\n",
       "      <th>0</th>\n",
       "      <th>sg_uf</th>\n",
       "    </tr>\n",
       "  </thead>\n",
       "  <tbody>\n",
       "    <tr>\n",
       "      <th>0</th>\n",
       "      <td>ABADIA DE GOIAS</td>\n",
       "      <td>0.532897</td>\n",
       "      <td>GO</td>\n",
       "    </tr>\n",
       "    <tr>\n",
       "      <th>1</th>\n",
       "      <td>ABADIA DOS DOURADOS</td>\n",
       "      <td>0.113048</td>\n",
       "      <td>MG</td>\n",
       "    </tr>\n",
       "    <tr>\n",
       "      <th>2</th>\n",
       "      <td>ABADIANIA</td>\n",
       "      <td>0.361055</td>\n",
       "      <td>GO</td>\n",
       "    </tr>\n",
       "    <tr>\n",
       "      <th>3</th>\n",
       "      <td>ABAETE</td>\n",
       "      <td>0.489618</td>\n",
       "      <td>MG</td>\n",
       "    </tr>\n",
       "    <tr>\n",
       "      <th>4</th>\n",
       "      <td>ABAETETUBA</td>\n",
       "      <td>0.174587</td>\n",
       "      <td>PA</td>\n",
       "    </tr>\n",
       "    <tr>\n",
       "      <th>...</th>\n",
       "      <td>...</td>\n",
       "      <td>...</td>\n",
       "      <td>...</td>\n",
       "    </tr>\n",
       "    <tr>\n",
       "      <th>5273</th>\n",
       "      <td>XIQUE XIQUE</td>\n",
       "      <td>0.347557</td>\n",
       "      <td>BA</td>\n",
       "    </tr>\n",
       "    <tr>\n",
       "      <th>5274</th>\n",
       "      <td>ZABELE</td>\n",
       "      <td>0.179167</td>\n",
       "      <td>PB</td>\n",
       "    </tr>\n",
       "    <tr>\n",
       "      <th>5275</th>\n",
       "      <td>ZACARIAS</td>\n",
       "      <td>0.184792</td>\n",
       "      <td>SP</td>\n",
       "    </tr>\n",
       "    <tr>\n",
       "      <th>5276</th>\n",
       "      <td>ZE DOCA</td>\n",
       "      <td>0.140979</td>\n",
       "      <td>MA</td>\n",
       "    </tr>\n",
       "    <tr>\n",
       "      <th>5277</th>\n",
       "      <td>ZORTEA</td>\n",
       "      <td>0.197667</td>\n",
       "      <td>SC</td>\n",
       "    </tr>\n",
       "  </tbody>\n",
       "</table>\n",
       "<p>5278 rows × 3 columns</p>\n",
       "</div>"
      ],
      "text/plain": [
       "             nm_municipio         0 sg_uf\n",
       "0         ABADIA DE GOIAS  0.532897    GO\n",
       "1     ABADIA DOS DOURADOS  0.113048    MG\n",
       "2               ABADIANIA  0.361055    GO\n",
       "3                  ABAETE  0.489618    MG\n",
       "4              ABAETETUBA  0.174587    PA\n",
       "...                   ...       ...   ...\n",
       "5273          XIQUE XIQUE  0.347557    BA\n",
       "5274               ZABELE  0.179167    PB\n",
       "5275             ZACARIAS  0.184792    SP\n",
       "5276              ZE DOCA  0.140979    MA\n",
       "5277               ZORTEA  0.197667    SC\n",
       "\n",
       "[5278 rows x 3 columns]"
      ]
     },
     "execution_count": 33,
     "metadata": {},
     "output_type": "execute_result"
    }
   ],
   "source": [
    "percentage_votos_centrao_2002"
   ]
  },
  {
   "cell_type": "code",
   "execution_count": 34,
   "metadata": {},
   "outputs": [
    {
     "data": {
      "text/plain": [
       "nm_municipio\n",
       "ABADIA DE GOIÁS         1586\n",
       "ABADIA DOS DOURADOS      153\n",
       "ABADIÂNIA               3562\n",
       "ABAETETUBA             15962\n",
       "ABAETÉ                   597\n",
       "                       ...  \n",
       "ÁUREA                    541\n",
       "ÂNGULO                  1074\n",
       "ÉRICO CARDOSO            238\n",
       "ÓBIDOS                  3499\n",
       "ÓLEO                     846\n",
       "Length: 5288, dtype: int64"
      ]
     },
     "execution_count": 34,
     "metadata": {},
     "output_type": "execute_result"
    }
   ],
   "source": [
    "eleicao_centrao_2006 = eleicao_dados_2006[eleicao_dados_2006['nm_urna_candidato'].isin(centrao_2007['0'].str.upper())]\n",
    "votos_centrao_por_municipio_2006 = pd.pivot_table(eleicao_centrao_2006, index='nm_municipio', columns='nm_candidato', values='qt_votos_nom_validos', aggfunc='sum', fill_value=0)\n",
    "total_2006 = eleicao_dados_2006.groupby('nm_municipio')['qt_votos_nom_validos'].sum()\n",
    "votos_centrao_soma_2006 = votos_centrao_por_municipio_2006.sum(axis=1)\n",
    "votos_centrao_soma_2006"
   ]
  },
  {
   "cell_type": "code",
   "execution_count": 35,
   "metadata": {},
   "outputs": [],
   "source": [
    "percentage_votos_centrao_2006 = (votos_centrao_soma_2006 / total_2006)\n",
    "unique_siglas = eleicao_dados_2006[['nm_municipio', 'sg_uf']].drop_duplicates(subset=['nm_municipio'])\n",
    "percentage_votos_centrao_2006 = pd.DataFrame(percentage_votos_centrao_2006)\n",
    "percentage_votos_centrao_2006 = pd.DataFrame(percentage_votos_centrao_2006).merge(unique_siglas, on='nm_municipio')\n",
    "percentage_votos_centrao_2006.to_csv('indice_centrao_2006.csv')"
   ]
  },
  {
   "cell_type": "code",
   "execution_count": 36,
   "metadata": {},
   "outputs": [
    {
     "data": {
      "text/plain": [
       "nm_municipio\n",
       "ABADIA DE GOIÁS        1585\n",
       "ABADIA DOS DOURADOS    2933\n",
       "ABADIÂNIA              3573\n",
       "ABAETETUBA             6685\n",
       "ABAETÉ                 2393\n",
       "                       ... \n",
       "ÁUREA                   108\n",
       "ÂNGULO                  459\n",
       "ÉRICO CARDOSO           200\n",
       "ÓBIDOS                  803\n",
       "ÓLEO                    183\n",
       "Length: 5293, dtype: int64"
      ]
     },
     "execution_count": 36,
     "metadata": {},
     "output_type": "execute_result"
    }
   ],
   "source": [
    "eleicao_centrao_2010 = eleicao_dados_2010[eleicao_dados_2010['nm_urna_candidato'].isin(centrao_2011['0'].str.upper())]\n",
    "votos_centrao_por_municipio_2010 = pd.pivot_table(eleicao_centrao_2010, index='nm_municipio', columns='nm_candidato', values='qt_votos_nom_validos', aggfunc='sum', fill_value=0)\n",
    "total_2010 = eleicao_dados_2010.groupby('nm_municipio')['qt_votos_nom_validos'].sum()\n",
    "votos_centrao_soma_2010 = votos_centrao_por_municipio_2010.sum(axis=1)\n",
    "votos_centrao_soma_2010"
   ]
  },
  {
   "cell_type": "code",
   "execution_count": 37,
   "metadata": {},
   "outputs": [],
   "source": [
    "percentage_votos_centrao_2010 = (votos_centrao_soma_2010 / total_2010)\n",
    "unique_siglas = eleicao_dados_2010[['nm_municipio', 'sg_uf']].drop_duplicates(subset=['nm_municipio'])\n",
    "percentage_votos_centrao_2010 = pd.DataFrame(percentage_votos_centrao_2010)\n",
    "percentage_votos_centrao_2010 = pd.DataFrame(percentage_votos_centrao_2010).merge(unique_siglas, on='nm_municipio')\n",
    "percentage_votos_centrao_2010.to_csv('indice_centrao_2010.csv')"
   ]
  },
  {
   "cell_type": "code",
   "execution_count": 38,
   "metadata": {},
   "outputs": [
    {
     "data": {
      "text/plain": [
       "nm_municipio\n",
       "ABADIA DE GOIÁS        1180\n",
       "ABADIA DOS DOURADOS    1308\n",
       "ABADIÂNIA              1523\n",
       "ABAETETUBA             3097\n",
       "ABAETÉ                  475\n",
       "                       ... \n",
       "ÁUREA                    73\n",
       "ÂNGULO                 1265\n",
       "ÉRICO CARDOSO          4298\n",
       "ÓBIDOS                  976\n",
       "ÓLEO                    792\n",
       "Length: 5297, dtype: int64"
      ]
     },
     "execution_count": 38,
     "metadata": {},
     "output_type": "execute_result"
    }
   ],
   "source": [
    "eleicao_centrao_2014 = eleicao_dados_2014[eleicao_dados_2014['nm_urna_candidato'].isin(centrao_2015['0'].str.upper())]\n",
    "votos_centrao_por_municipio_2014 = pd.pivot_table(eleicao_centrao_2014, index='nm_municipio', columns='nm_candidato', values='qt_votos_nom_validos', aggfunc='sum', fill_value=0)\n",
    "total_2014 = eleicao_dados_2014.groupby('nm_municipio')['qt_votos_nom_validos'].sum()\n",
    "votos_centrao_soma_2014 = votos_centrao_por_municipio_2014.sum(axis=1)\n",
    "votos_centrao_soma_2014"
   ]
  },
  {
   "cell_type": "code",
   "execution_count": 43,
   "metadata": {},
   "outputs": [],
   "source": [
    "percentage_votos_centrao_2014 = (votos_centrao_soma_2014 / total_2014)\n",
    "unique_siglas = eleicao_dados_2014[['nm_municipio', 'sg_uf']].drop_duplicates(subset=['nm_municipio'])\n",
    "percentage_votos_centrao_2014 = pd.DataFrame(percentage_votos_centrao_2014)\n",
    "percentage_votos_centrao_2014 = percentage_votos_centrao_2014.merge(unique_siglas, on='nm_municipio')\n",
    "percentage_votos_centrao_2014.to_csv('indice_centrao_2014.csv')"
   ]
  },
  {
   "cell_type": "code",
   "execution_count": 40,
   "metadata": {},
   "outputs": [
    {
     "data": {
      "text/plain": [
       "nm_municipio\n",
       "ABADIA DE GOIÁS         1393\n",
       "ABADIA DOS DOURADOS      492\n",
       "ABADIÂNIA               2277\n",
       "ABAETETUBA             15755\n",
       "ABAETÉ                  1581\n",
       "                       ...  \n",
       "ÁUREA                   1118\n",
       "ÂNGULO                   308\n",
       "ÉRICO CARDOSO           3374\n",
       "ÓBIDOS                  3423\n",
       "ÓLEO                     368\n",
       "Length: 5297, dtype: int64"
      ]
     },
     "execution_count": 40,
     "metadata": {},
     "output_type": "execute_result"
    }
   ],
   "source": [
    "eleicao_centrao_2018 = eleicao_dados_2018[eleicao_dados_2018['nm_urna_candidato'].isin(centrao_2019['0'].str.upper())]\n",
    "votos_centrao_por_municipio_2018 = pd.pivot_table(eleicao_centrao_2018, index='nm_municipio', columns='nm_candidato', values='qt_votos_nom_validos', aggfunc='sum', fill_value=0)\n",
    "total_2018 = eleicao_dados_2018.groupby('nm_municipio')['qt_votos_nom_validos'].sum()\n",
    "votos_centrao_soma_2018 = votos_centrao_por_municipio_2018.sum(axis=1)\n",
    "votos_centrao_soma_2018"
   ]
  },
  {
   "cell_type": "code",
   "execution_count": 41,
   "metadata": {},
   "outputs": [],
   "source": [
    "percentage_votos_centrao_2018 = (votos_centrao_soma_2018 / total_2018)\n",
    "unique_siglas = eleicao_dados_2018[['nm_municipio', 'sg_uf']].drop_duplicates(subset=['nm_municipio'])\n",
    "percentage_votos_centrao_2018 = pd.DataFrame(percentage_votos_centrao_2018)\n",
    "percentage_votos_centrao_2018 = pd.DataFrame(percentage_votos_centrao_2018).merge(unique_siglas, on='nm_municipio')\n",
    "percentage_votos_centrao_2018.to_csv('indice_centrao_2018.csv')"
   ]
  },
  {
   "cell_type": "markdown",
   "metadata": {},
   "source": [
    "# NEW\n"
   ]
  },
  {
   "cell_type": "code",
   "execution_count": 1,
   "metadata": {},
   "outputs": [],
   "source": [
    "import pandas as pd\n",
    "\n",
    "eleitos_2022 = pd.read_csv(\"eleitos_2022.csv\")\n",
    "centrao_2022 = pd.read_csv(\"centrao_2022.csv\")\n",
    "eleitos_2022.columns = eleitos_2022.columns.str.lower()\n",
    "eleicao_centrao_2022 = eleitos_2022[eleitos_2022['nm_urna_candidato'].str.upper().isin(centrao_2022['0'].str.upper())]\n",
    "votos_centrao_por_municipio_2022 = pd.pivot_table(eleicao_centrao_2022, index='nm_municipio', columns='nm_candidato', values='qt_votos_nominais_validos', aggfunc='sum', fill_value=0)\n",
    "total_2022 = eleitos_2022.groupby('nm_municipio')['qt_votos_nominais_validos'].sum()\n",
    "votos_centrao_soma_2022 = votos_centrao_por_municipio_2022.sum(axis=1)\n",
    "\n",
    "percentage_votos_centrao_2022 = (votos_centrao_soma_2022 / total_2022)\n",
    "unique_siglas = eleitos_2022[['nm_municipio', 'sg_uf']].drop_duplicates(subset=['nm_municipio'])\n",
    "percentage_votos_centrao_2022 = pd.DataFrame(percentage_votos_centrao_2022)\n",
    "percentage_votos_centrao_2022 = pd.DataFrame(percentage_votos_centrao_2022).merge(unique_siglas, on='nm_municipio')\n",
    "percentage_votos_centrao_2022.to_csv('indice_centrao_2022.csv')"
   ]
  },
  {
   "cell_type": "code",
   "execution_count": 2,
   "metadata": {},
   "outputs": [
    {
     "data": {
      "text/html": [
       "<div>\n",
       "<style scoped>\n",
       "    .dataframe tbody tr th:only-of-type {\n",
       "        vertical-align: middle;\n",
       "    }\n",
       "\n",
       "    .dataframe tbody tr th {\n",
       "        vertical-align: top;\n",
       "    }\n",
       "\n",
       "    .dataframe thead th {\n",
       "        text-align: right;\n",
       "    }\n",
       "</style>\n",
       "<table border=\"1\" class=\"dataframe\">\n",
       "  <thead>\n",
       "    <tr style=\"text-align: right;\">\n",
       "      <th></th>\n",
       "      <th>nm_municipio</th>\n",
       "      <th>0</th>\n",
       "      <th>sg_uf</th>\n",
       "    </tr>\n",
       "  </thead>\n",
       "  <tbody>\n",
       "    <tr>\n",
       "      <th>0</th>\n",
       "      <td>ABADIA DE GOIÁS</td>\n",
       "      <td>0.659899</td>\n",
       "      <td>GO</td>\n",
       "    </tr>\n",
       "    <tr>\n",
       "      <th>1</th>\n",
       "      <td>ABADIA DOS DOURADOS</td>\n",
       "      <td>0.783831</td>\n",
       "      <td>MG</td>\n",
       "    </tr>\n",
       "    <tr>\n",
       "      <th>2</th>\n",
       "      <td>ABADIÂNIA</td>\n",
       "      <td>0.713741</td>\n",
       "      <td>GO</td>\n",
       "    </tr>\n",
       "    <tr>\n",
       "      <th>3</th>\n",
       "      <td>ABAETETUBA</td>\n",
       "      <td>0.357668</td>\n",
       "      <td>PA</td>\n",
       "    </tr>\n",
       "    <tr>\n",
       "      <th>4</th>\n",
       "      <td>ABAETÉ</td>\n",
       "      <td>0.199108</td>\n",
       "      <td>MG</td>\n",
       "    </tr>\n",
       "    <tr>\n",
       "      <th>...</th>\n",
       "      <td>...</td>\n",
       "      <td>...</td>\n",
       "      <td>...</td>\n",
       "    </tr>\n",
       "    <tr>\n",
       "      <th>5292</th>\n",
       "      <td>ÁUREA</td>\n",
       "      <td>0.483437</td>\n",
       "      <td>RS</td>\n",
       "    </tr>\n",
       "    <tr>\n",
       "      <th>5293</th>\n",
       "      <td>ÂNGULO</td>\n",
       "      <td>0.670872</td>\n",
       "      <td>PR</td>\n",
       "    </tr>\n",
       "    <tr>\n",
       "      <th>5294</th>\n",
       "      <td>ÉRICO CARDOSO</td>\n",
       "      <td>0.936180</td>\n",
       "      <td>BA</td>\n",
       "    </tr>\n",
       "    <tr>\n",
       "      <th>5295</th>\n",
       "      <td>ÓBIDOS</td>\n",
       "      <td>0.508672</td>\n",
       "      <td>PA</td>\n",
       "    </tr>\n",
       "    <tr>\n",
       "      <th>5296</th>\n",
       "      <td>ÓLEO</td>\n",
       "      <td>0.413939</td>\n",
       "      <td>SP</td>\n",
       "    </tr>\n",
       "  </tbody>\n",
       "</table>\n",
       "<p>5297 rows × 3 columns</p>\n",
       "</div>"
      ],
      "text/plain": [
       "             nm_municipio         0 sg_uf\n",
       "0         ABADIA DE GOIÁS  0.659899    GO\n",
       "1     ABADIA DOS DOURADOS  0.783831    MG\n",
       "2               ABADIÂNIA  0.713741    GO\n",
       "3              ABAETETUBA  0.357668    PA\n",
       "4                  ABAETÉ  0.199108    MG\n",
       "...                   ...       ...   ...\n",
       "5292                ÁUREA  0.483437    RS\n",
       "5293               ÂNGULO  0.670872    PR\n",
       "5294        ÉRICO CARDOSO  0.936180    BA\n",
       "5295               ÓBIDOS  0.508672    PA\n",
       "5296                 ÓLEO  0.413939    SP\n",
       "\n",
       "[5297 rows x 3 columns]"
      ]
     },
     "execution_count": 2,
     "metadata": {},
     "output_type": "execute_result"
    }
   ],
   "source": [
    "percentage_votos_centrao_2022"
   ]
  },
  {
   "cell_type": "code",
   "execution_count": 3,
   "metadata": {},
   "outputs": [
    {
     "data": {
      "text/html": [
       "<div>\n",
       "<style scoped>\n",
       "    .dataframe tbody tr th:only-of-type {\n",
       "        vertical-align: middle;\n",
       "    }\n",
       "\n",
       "    .dataframe tbody tr th {\n",
       "        vertical-align: top;\n",
       "    }\n",
       "\n",
       "    .dataframe thead th {\n",
       "        text-align: right;\n",
       "    }\n",
       "</style>\n",
       "<table border=\"1\" class=\"dataframe\">\n",
       "  <thead>\n",
       "    <tr style=\"text-align: right;\">\n",
       "      <th></th>\n",
       "      <th>nm_municipio</th>\n",
       "      <th>0</th>\n",
       "      <th>sg_uf</th>\n",
       "    </tr>\n",
       "  </thead>\n",
       "  <tbody>\n",
       "    <tr>\n",
       "      <th>0</th>\n",
       "      <td>ABADIA DE GOIÁS</td>\n",
       "      <td>0.659899</td>\n",
       "      <td>GO</td>\n",
       "    </tr>\n",
       "    <tr>\n",
       "      <th>1</th>\n",
       "      <td>ABADIA DOS DOURADOS</td>\n",
       "      <td>0.783831</td>\n",
       "      <td>MG</td>\n",
       "    </tr>\n",
       "    <tr>\n",
       "      <th>2</th>\n",
       "      <td>ABADIÂNIA</td>\n",
       "      <td>0.713741</td>\n",
       "      <td>GO</td>\n",
       "    </tr>\n",
       "    <tr>\n",
       "      <th>3</th>\n",
       "      <td>ABAETETUBA</td>\n",
       "      <td>0.357668</td>\n",
       "      <td>PA</td>\n",
       "    </tr>\n",
       "    <tr>\n",
       "      <th>4</th>\n",
       "      <td>ABAETÉ</td>\n",
       "      <td>0.199108</td>\n",
       "      <td>MG</td>\n",
       "    </tr>\n",
       "    <tr>\n",
       "      <th>...</th>\n",
       "      <td>...</td>\n",
       "      <td>...</td>\n",
       "      <td>...</td>\n",
       "    </tr>\n",
       "    <tr>\n",
       "      <th>5292</th>\n",
       "      <td>ÁUREA</td>\n",
       "      <td>0.483437</td>\n",
       "      <td>RS</td>\n",
       "    </tr>\n",
       "    <tr>\n",
       "      <th>5293</th>\n",
       "      <td>ÂNGULO</td>\n",
       "      <td>0.670872</td>\n",
       "      <td>PR</td>\n",
       "    </tr>\n",
       "    <tr>\n",
       "      <th>5294</th>\n",
       "      <td>ÉRICO CARDOSO</td>\n",
       "      <td>0.936180</td>\n",
       "      <td>BA</td>\n",
       "    </tr>\n",
       "    <tr>\n",
       "      <th>5295</th>\n",
       "      <td>ÓBIDOS</td>\n",
       "      <td>0.508672</td>\n",
       "      <td>PA</td>\n",
       "    </tr>\n",
       "    <tr>\n",
       "      <th>5296</th>\n",
       "      <td>ÓLEO</td>\n",
       "      <td>0.413939</td>\n",
       "      <td>SP</td>\n",
       "    </tr>\n",
       "  </tbody>\n",
       "</table>\n",
       "<p>5297 rows × 3 columns</p>\n",
       "</div>"
      ],
      "text/plain": [
       "             nm_municipio         0 sg_uf\n",
       "0         ABADIA DE GOIÁS  0.659899    GO\n",
       "1     ABADIA DOS DOURADOS  0.783831    MG\n",
       "2               ABADIÂNIA  0.713741    GO\n",
       "3              ABAETETUBA  0.357668    PA\n",
       "4                  ABAETÉ  0.199108    MG\n",
       "...                   ...       ...   ...\n",
       "5292                ÁUREA  0.483437    RS\n",
       "5293               ÂNGULO  0.670872    PR\n",
       "5294        ÉRICO CARDOSO  0.936180    BA\n",
       "5295               ÓBIDOS  0.508672    PA\n",
       "5296                 ÓLEO  0.413939    SP\n",
       "\n",
       "[5297 rows x 3 columns]"
      ]
     },
     "execution_count": 3,
     "metadata": {},
     "output_type": "execute_result"
    }
   ],
   "source": [
    "percentage_votos_centrao_2022"
   ]
  }
 ],
 "metadata": {
  "kernelspec": {
   "display_name": "Questions",
   "language": "python",
   "name": "python3"
  },
  "language_info": {
   "codemirror_mode": {
    "name": "ipython",
    "version": 3
   },
   "file_extension": ".py",
   "mimetype": "text/x-python",
   "name": "python",
   "nbconvert_exporter": "python",
   "pygments_lexer": "ipython3",
   "version": "3.11.7"
  }
 },
 "nbformat": 4,
 "nbformat_minor": 2
}
